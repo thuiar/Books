{
 "cells": [
  {
   "cell_type": "code",
   "execution_count": 1,
   "metadata": {},
   "outputs": [
    {
     "name": "stderr",
     "output_type": "stream",
     "text": [
      "12/25/2019 17:48:15 - INFO - utils -   device: cuda n_gpu: 1\n",
      "12/25/2019 17:48:15 - INFO - pytorch_pretrained_bert.tokenization -   loading vocabulary file /data/disk1/sharing/pretrained_embedding/bert/uncased_L-12_H-768_A-12/vocab.txt\n",
      "12/25/2019 17:48:15 - INFO - pytorch_pretrained_bert.modeling -   loading archive file /data/disk1/sharing/pretrained_embedding/bert/uncased_L-12_H-768_A-12\n",
      "12/25/2019 17:48:15 - INFO - pytorch_pretrained_bert.modeling -   Model config {\n",
      "  \"attention_probs_dropout_prob\": 0.1,\n",
      "  \"hidden_act\": \"gelu\",\n",
      "  \"hidden_dropout_prob\": 0.1,\n",
      "  \"hidden_size\": 768,\n",
      "  \"initializer_range\": 0.02,\n",
      "  \"intermediate_size\": 3072,\n",
      "  \"max_position_embeddings\": 512,\n",
      "  \"num_attention_heads\": 12,\n",
      "  \"num_hidden_layers\": 12,\n",
      "  \"type_vocab_size\": 2,\n",
      "  \"vocab_size\": 30522\n",
      "}\n",
      "\n",
      "12/25/2019 17:48:18 - INFO - pytorch_pretrained_bert.modeling -   Weights of BertForConstrainClustering not initialized from pretrained model: ['cluster_layer', 'dense.weight', 'dense.bias', 'classifier.weight', 'classifier.bias']\n",
      "12/25/2019 17:48:18 - INFO - pytorch_pretrained_bert.modeling -   Weights from pretrained model not used in BertForConstrainClustering: ['cls.predictions.bias', 'cls.predictions.transform.dense.weight', 'cls.predictions.transform.dense.bias', 'cls.predictions.decoder.weight', 'cls.seq_relationship.weight', 'cls.seq_relationship.bias', 'cls.predictions.transform.LayerNorm.weight', 'cls.predictions.transform.LayerNorm.bias']\n"
     ]
    }
   ],
   "source": [
    "from model import BertForConstrainClustering\n",
    "from utils import *\n",
    "import argparse\n",
    "import random\n",
    "import torch\n",
    "import os\n",
    "import pandas as pd\n",
    "from torch.utils.data import (DataLoader, RandomSampler, SequentialSampler, TensorDataset)\n",
    "from tqdm import trange\n",
    "from tqdm import tqdm_notebook as tqdm\n",
    "from pytorch_pretrained_bert.tokenization import BertTokenizer\n",
    "from pytorch_pretrained_bert.optimization import BertAdam, warmup_linear\n",
    "from pytorch_pretrained_bert.modeling import WEIGHTS_NAME, CONFIG_NAME\n",
    "import torch.nn.functional as F\n",
    "from sklearn.metrics import confusion_matrix\n",
    "from datetime import datetime\n",
    "import warnings\n",
    "warnings.warn = warn\n",
    "\n",
    "results_all = {}\n",
    "seed = 44\n",
    "os.environ[\"CUDA_VISIBLE_DEVICES\"] = \"0\"\n",
    "\n",
    "task_name = dataset = 'snips'\n",
    "fraction = 1\n",
    "labeled_ratio = 0.1\n",
    "unknown_cls_ratio = 0.25\n",
    "\n",
    "data_dir = 'data/' + task_name\n",
    "output_dir = '/tmp/' + datetime.now().strftime('%Y-%m-%d_%H:%M:%S')\n",
    "bert_model = \"/data/disk1/sharing/pretrained_embedding/bert/uncased_L-12_H-768_A-12\"\n",
    "num_train_epochs = 46\n",
    "\n",
    "max_seq_task = {\n",
    "    \"snips\": 35,\n",
    "    'dbpedia': 54,\n",
    "    \"stackoverflow\": 20,\n",
    "}\n",
    "max_seq_length = max_seq_task[task_name]\n",
    "train_batch_size = 256\n",
    "eval_batch_size = 256\n",
    "learning_rate = 2e-5\n",
    "warmup_proportion = 0.1\n",
    "\n",
    "processors = {\n",
    "    \"snips\": SnipsProcessor,\n",
    "    'dbpedia': Dbpedia_Processor,\n",
    "    \"stackoverflow\": Stackoverflow_Processor,\n",
    "}\n",
    "\n",
    "num_labels_task = {\n",
    "    \"snips\": 7,\n",
    "    'dbpedia': 14,\n",
    "    \"stackoverflow\": 20,\n",
    "}\n",
    "\n",
    "\n",
    "device = torch.device(\"cuda\" if torch.cuda.is_available() else \"cpu\")\n",
    "n_gpu = torch.cuda.device_count()\n",
    "logger.info(\"device: {} n_gpu: {}\".format(device, n_gpu))\n",
    "logger.disabled = True\n",
    "\n",
    "random.seed(seed)\n",
    "np.random.seed(seed)\n",
    "torch.manual_seed(seed)\n",
    "\n",
    "if os.path.exists(output_dir) and os.listdir(output_dir):\n",
    "    raise ValueError(\"Output directory ({}) already exists and is not empty.\".format(output_dir))\n",
    "if not os.path.exists(output_dir):\n",
    "    os.makedirs(output_dir)\n",
    "\n",
    "if task_name not in processors:\n",
    "    raise ValueError(\"Task not found: %s\" % (task_name))\n",
    "\n",
    "processor = processors[task_name]()\n",
    "num_labels = num_labels_task[task_name]\n",
    "label_list = processor.get_labels()\n",
    "tokenizer = BertTokenizer.from_pretrained(bert_model, do_lower_case=True)\n",
    "\n",
    "# Freezing all transformer (except the last layer)\n",
    "model = BertForConstrainClustering.from_pretrained(bert_model, num_labels = num_labels*fraction)\n",
    "for name, param in model.bert.named_parameters():  \n",
    "    param.requires_grad = False\n",
    "    if \"encoder.layer.11\" in name or \"pooler\" in name:\n",
    "        param.requires_grad = True\n",
    "model.to(device)\n",
    "\n",
    "param_optimizer = list(model.named_parameters())\n",
    "no_decay = ['bias', 'LayerNorm.bias', 'LayerNorm.weight']\n",
    "optimizer_grouped_parameters = [\n",
    "    {'params': [p for n, p in param_optimizer if not any(nd in n for nd in no_decay)], 'weight_decay': 0.01},\n",
    "    {'params': [p for n, p in param_optimizer if any(nd in n for nd in no_decay)], 'weight_decay': 0.0}\n",
    "]\n",
    "\n",
    "train_examples = processor.get_train_examples(data_dir)\n",
    "num_train_optimization_steps = int(len(train_examples) / train_batch_size) * num_train_epochs\n",
    "optimizer = BertAdam(optimizer_grouped_parameters,\n",
    "                     lr=learning_rate,\n",
    "                     warmup=warmup_proportion,\n",
    "                     t_total=num_train_optimization_steps)\n",
    "\n",
    "## Settings of unknown classes discovery\n",
    "# 1. Select 25% classes as unknown(-1)\n",
    "# 2. Set 90% of examples as unknown(-1)\n",
    "n_unknown_cls = round(num_labels*unknown_cls_ratio)\n",
    "label_unknown = np.random.choice(np.array(label_list), n_unknown_cls, replace=False)\n",
    "\n",
    "train_labeled_examples, train_unlabeled_examples = [], []\n",
    "for example in train_examples:\n",
    "    if (example.label not in label_unknown) and (np.random.uniform(0, 1) <= labeled_ratio):\n",
    "        train_labeled_examples.append(example)\n",
    "    else:\n",
    "        train_unlabeled_examples.append(example)\n",
    "\n",
    "\n",
    "train_loss = 0\n",
    "train_features = convert_examples_to_features(train_examples, label_list, max_seq_length, tokenizer)\n",
    "logger.info(\"***** Loading training set *****\")\n",
    "logger.info(\"  Num examples = %d\", len(train_examples))\n",
    "train_input_ids = torch.tensor([f.input_ids for f in train_features], dtype=torch.long)\n",
    "train_input_mask = torch.tensor([f.input_mask for f in train_features], dtype=torch.long)\n",
    "train_segment_ids = torch.tensor([f.segment_ids for f in train_features], dtype=torch.long)\n",
    "train_label_ids = torch.tensor([f.label_id for f in train_features], dtype=torch.long)\n",
    "train_data = TensorDataset(train_input_ids, train_input_mask, train_segment_ids, train_label_ids)\n",
    "train_sampler = SequentialSampler(train_data)\n",
    "train_dataloader = DataLoader(train_data, sampler=train_sampler, batch_size=train_batch_size)\n",
    "\n",
    "\n",
    "train_labeled_features = convert_examples_to_features(train_labeled_examples, label_list, max_seq_length, tokenizer)\n",
    "logger.info(\"***** Running training(labeled) *****\")\n",
    "logger.info(\"  Num examples = %d\", len(train_labeled_features))\n",
    "logger.info(\"  Batch size = %d\", train_batch_size)\n",
    "logger.info(\"  Num steps = %d\", num_train_optimization_steps)\n",
    "train_labeled_input_ids = torch.tensor([f.input_ids for f in train_labeled_features], dtype=torch.long)\n",
    "train_labeled_input_mask = torch.tensor([f.input_mask for f in train_labeled_features], dtype=torch.long)\n",
    "train_labeled_segment_ids = torch.tensor([f.segment_ids for f in train_labeled_features], dtype=torch.long)\n",
    "train_labeled_label_ids = torch.tensor([f.label_id for f in train_labeled_features], dtype=torch.long)\n",
    "\n",
    "train_labeled_data = TensorDataset(train_labeled_input_ids, train_labeled_input_mask, train_labeled_segment_ids, train_labeled_label_ids)\n",
    "train_labeled_sampler = RandomSampler(train_labeled_data)\n",
    "train_labeled_dataloader = DataLoader(train_labeled_data, sampler=train_labeled_sampler, batch_size=train_batch_size)\n",
    "\n",
    "\n",
    "train_unlabeled_features = convert_examples_to_features(train_unlabeled_examples, label_list, max_seq_length, tokenizer)\n",
    "logger.info(\"***** Running training(unlabeled) *****\")\n",
    "logger.info(\"  Num examples = %d\", len(train_unlabeled_features))\n",
    "logger.info(\"  Batch size = %d\", train_batch_size)\n",
    "logger.info(\"  Num steps = %d\", num_train_optimization_steps)\n",
    "train_unlabeled_input_ids = torch.tensor([f.input_ids for f in train_unlabeled_features], dtype=torch.long)\n",
    "train_unlabeled_input_mask = torch.tensor([f.input_mask for f in train_unlabeled_features], dtype=torch.long)\n",
    "train_unlabeled_segment_ids = torch.tensor([f.segment_ids for f in train_unlabeled_features], dtype=torch.long)\n",
    "train_unlabeled_label_ids = torch.tensor([-1 for f in train_unlabeled_features], dtype=torch.long)\n",
    "train_semi_input_ids = torch.cat([train_labeled_input_ids, train_unlabeled_input_ids])\n",
    "train_semi_input_mask = torch.cat([train_labeled_input_mask, train_unlabeled_input_mask])\n",
    "train_semi_segment_ids = torch.cat([train_labeled_segment_ids, train_unlabeled_segment_ids])\n",
    "train_semi_label_ids = torch.cat([train_labeled_label_ids, train_unlabeled_label_ids])\n",
    "\n",
    "train_semi_data = TensorDataset(train_semi_input_ids, train_semi_input_mask, train_semi_segment_ids, train_semi_label_ids)\n",
    "train_semi_sampler = RandomSampler(train_semi_data)\n",
    "train_semi_dataloader = DataLoader(train_semi_data, sampler=train_semi_sampler, batch_size=train_batch_size)"
   ]
  },
  {
   "cell_type": "code",
   "execution_count": 2,
   "metadata": {
    "scrolled": true
   },
   "outputs": [
    {
     "name": "stderr",
     "output_type": "stream",
     "text": [
      "\r",
      "Epoch:   0%|          | 0/46 [00:00<?, ?it/s]"
     ]
    },
    {
     "data": {
      "application/vnd.jupyter.widget-view+json": {
       "model_id": "f430f6fdccc14ed796661e16d12adec8",
       "version_major": 2,
       "version_minor": 0
      },
      "text/plain": [
       "HBox(children=(IntProgress(value=0, description='Iteration (labeled)', max=4, style=ProgressStyle(description_…"
      ]
     },
     "metadata": {},
     "output_type": "display_data"
    },
    {
     "data": {
      "application/vnd.jupyter.widget-view+json": {
       "model_id": "188204d740394e28ac078126ea08cbd8",
       "version_major": 2,
       "version_minor": 0
      },
      "text/plain": [
       "HBox(children=(IntProgress(value=0, description='Iteration (all train)', max=52, style=ProgressStyle(descripti…"
      ]
     },
     "metadata": {},
     "output_type": "display_data"
    },
    {
     "data": {
      "application/vnd.jupyter.widget-view+json": {
       "model_id": "fafc2dc3866d44dd9044da4321fbbd27",
       "version_major": 2,
       "version_minor": 0
      },
      "text/plain": [
       "HBox(children=(IntProgress(value=0, description='Evaluating', max=2, style=ProgressStyle(description_width='in…"
      ]
     },
     "metadata": {},
     "output_type": "display_data"
    },
    {
     "name": "stderr",
     "output_type": "stream",
     "text": [
      "\r",
      "Epoch:   2%|▏         | 1/46 [00:36<27:14, 36.33s/it]"
     ]
    },
    {
     "name": "stdout",
     "output_type": "stream",
     "text": [
      "[[24  4  7 17  4  0 44]\n",
      " [ 0 99  0  0  0  1  0]\n",
      " [ 0  0  0  0  0  0  0]\n",
      " [ 7  2 17 74  0  0  0]\n",
      " [12 20 13  5 40  3  7]\n",
      " [ 0  0  0  0  0  0  0]\n",
      " [ 5  4 21  5  1  2 62]]\n",
      "0: loss=0.583169705592669, (u, l) = (0.95,0.455)\n"
     ]
    },
    {
     "data": {
      "application/vnd.jupyter.widget-view+json": {
       "model_id": "35f6c032f5e74dd1b43e205b6a540b5b",
       "version_major": 2,
       "version_minor": 0
      },
      "text/plain": [
       "HBox(children=(IntProgress(value=0, description='Iteration (labeled)', max=4, style=ProgressStyle(description_…"
      ]
     },
     "metadata": {},
     "output_type": "display_data"
    },
    {
     "data": {
      "application/vnd.jupyter.widget-view+json": {
       "model_id": "1b3b56404adb448b8e3e97bac536b350",
       "version_major": 2,
       "version_minor": 0
      },
      "text/plain": [
       "HBox(children=(IntProgress(value=0, description='Iteration (all train)', max=52, style=ProgressStyle(descripti…"
      ]
     },
     "metadata": {},
     "output_type": "display_data"
    },
    {
     "data": {
      "application/vnd.jupyter.widget-view+json": {
       "model_id": "af1473ffa2834a80af0947f8b69e5ca0",
       "version_major": 2,
       "version_minor": 0
      },
      "text/plain": [
       "HBox(children=(IntProgress(value=0, description='Evaluating', max=2, style=ProgressStyle(description_width='in…"
      ]
     },
     "metadata": {},
     "output_type": "display_data"
    },
    {
     "name": "stderr",
     "output_type": "stream",
     "text": [
      "\r",
      "Epoch:   4%|▍         | 2/46 [01:25<29:22, 40.07s/it]"
     ]
    },
    {
     "name": "stdout",
     "output_type": "stream",
     "text": [
      "[[26  5 10  5  4  2 48]\n",
      " [ 0 99  0  0  0  1  0]\n",
      " [ 0  0  0  0  0  0  0]\n",
      " [ 1  0 11 87  0  1  0]\n",
      " [15 10 24  1 43  4  3]\n",
      " [ 0  0  0  0  0  0  0]\n",
      " [ 4  1 26  0  0  2 67]]\n",
      "1: loss=0.5705461066502792, (u, l) = (0.9401,0.456)\n"
     ]
    },
    {
     "data": {
      "application/vnd.jupyter.widget-view+json": {
       "model_id": "9440cfe5edd2451fbe9f25a881cf04f6",
       "version_major": 2,
       "version_minor": 0
      },
      "text/plain": [
       "HBox(children=(IntProgress(value=0, description='Iteration (labeled)', max=4, style=ProgressStyle(description_…"
      ]
     },
     "metadata": {},
     "output_type": "display_data"
    },
    {
     "data": {
      "application/vnd.jupyter.widget-view+json": {
       "model_id": "3fbbf04f1bd64172baf784b13cf4ec0c",
       "version_major": 2,
       "version_minor": 0
      },
      "text/plain": [
       "HBox(children=(IntProgress(value=0, description='Iteration (all train)', max=52, style=ProgressStyle(descripti…"
      ]
     },
     "metadata": {},
     "output_type": "display_data"
    },
    {
     "data": {
      "application/vnd.jupyter.widget-view+json": {
       "model_id": "d5a9c25ec8d24770ae0617f4fe166816",
       "version_major": 2,
       "version_minor": 0
      },
      "text/plain": [
       "HBox(children=(IntProgress(value=0, description='Evaluating', max=2, style=ProgressStyle(description_width='in…"
      ]
     },
     "metadata": {},
     "output_type": "display_data"
    },
    {
     "name": "stderr",
     "output_type": "stream",
     "text": [
      "\r",
      "Epoch:   7%|▋         | 3/46 [02:15<30:55, 43.15s/it]"
     ]
    },
    {
     "name": "stdout",
     "output_type": "stream",
     "text": [
      "[[35  1  3  4  5  3 49]\n",
      " [ 0 99  0  0  0  1  0]\n",
      " [ 0  0  0  0  0  0  0]\n",
      " [ 1  0  0 95  3  1  0]\n",
      " [16  7 34  3 35  4  1]\n",
      " [ 0  0  0  0  0  0  0]\n",
      " [ 1  0  0  0 17  2 80]]\n",
      "2: loss=0.5447999238967896, (u, l) = (0.9302,0.457)\n"
     ]
    },
    {
     "data": {
      "application/vnd.jupyter.widget-view+json": {
       "model_id": "a450b4c552d44089a6c749fddbb636d4",
       "version_major": 2,
       "version_minor": 0
      },
      "text/plain": [
       "HBox(children=(IntProgress(value=0, description='Iteration (labeled)', max=4, style=ProgressStyle(description_…"
      ]
     },
     "metadata": {},
     "output_type": "display_data"
    },
    {
     "data": {
      "application/vnd.jupyter.widget-view+json": {
       "model_id": "b9b6a040d2534f03bc47329e8b44e2d9",
       "version_major": 2,
       "version_minor": 0
      },
      "text/plain": [
       "HBox(children=(IntProgress(value=0, description='Iteration (all train)', max=52, style=ProgressStyle(descripti…"
      ]
     },
     "metadata": {},
     "output_type": "display_data"
    },
    {
     "data": {
      "application/vnd.jupyter.widget-view+json": {
       "model_id": "581a8d2d1e224cf7836e56f297b727bd",
       "version_major": 2,
       "version_minor": 0
      },
      "text/plain": [
       "HBox(children=(IntProgress(value=0, description='Evaluating', max=2, style=ProgressStyle(description_width='in…"
      ]
     },
     "metadata": {},
     "output_type": "display_data"
    },
    {
     "name": "stderr",
     "output_type": "stream",
     "text": [
      "\r",
      "Epoch:   9%|▊         | 4/46 [03:06<31:53, 45.56s/it]"
     ]
    },
    {
     "name": "stdout",
     "output_type": "stream",
     "text": [
      "[[ 30   2   2   7   3   6  50]\n",
      " [  0 100   0   0   0   0   0]\n",
      " [  0   0   0   0   0   0   0]\n",
      " [  0   0   0  98   0   2   0]\n",
      " [ 11   5  34   1  45   4   0]\n",
      " [  0   0   0   0   0   0   0]\n",
      " [  0   0   3   0   0   1  96]]\n",
      "3: loss=0.5177683778680288, (u, l) = (0.9203,0.458)\n"
     ]
    },
    {
     "data": {
      "application/vnd.jupyter.widget-view+json": {
       "model_id": "49fb83aac207482b9a4e98335367df1c",
       "version_major": 2,
       "version_minor": 0
      },
      "text/plain": [
       "HBox(children=(IntProgress(value=0, description='Iteration (labeled)', max=4, style=ProgressStyle(description_…"
      ]
     },
     "metadata": {},
     "output_type": "display_data"
    },
    {
     "data": {
      "application/vnd.jupyter.widget-view+json": {
       "model_id": "3f3d169c3df54b9cbab1f99ed29c856d",
       "version_major": 2,
       "version_minor": 0
      },
      "text/plain": [
       "HBox(children=(IntProgress(value=0, description='Iteration (all train)', max=52, style=ProgressStyle(descripti…"
      ]
     },
     "metadata": {},
     "output_type": "display_data"
    },
    {
     "data": {
      "application/vnd.jupyter.widget-view+json": {
       "model_id": "0596c29ee427434eae56e3198b3649e7",
       "version_major": 2,
       "version_minor": 0
      },
      "text/plain": [
       "HBox(children=(IntProgress(value=0, description='Evaluating', max=2, style=ProgressStyle(description_width='in…"
      ]
     },
     "metadata": {},
     "output_type": "display_data"
    },
    {
     "name": "stderr",
     "output_type": "stream",
     "text": [
      "\r",
      "Epoch:  11%|█         | 5/46 [03:58<32:21, 47.35s/it]"
     ]
    },
    {
     "name": "stdout",
     "output_type": "stream",
     "text": [
      "[[36  1  0 13  0  6 44]\n",
      " [ 0 99  0  0  1  0  0]\n",
      " [ 0  0  0  0  0  0  0]\n",
      " [ 0  0  0 98  0  2  0]\n",
      " [15  3 30  1 49  2  0]\n",
      " [ 0  0  0  0  0  0  0]\n",
      " [ 2  0  0  0  1  0 97]]\n",
      "4: loss=0.494927616073535, (u, l) = (0.9104,0.459)\n"
     ]
    },
    {
     "data": {
      "application/vnd.jupyter.widget-view+json": {
       "model_id": "2aebdb16d94d4495857eabad335641cd",
       "version_major": 2,
       "version_minor": 0
      },
      "text/plain": [
       "HBox(children=(IntProgress(value=0, description='Iteration (labeled)', max=4, style=ProgressStyle(description_…"
      ]
     },
     "metadata": {},
     "output_type": "display_data"
    },
    {
     "data": {
      "application/vnd.jupyter.widget-view+json": {
       "model_id": "765dfdb275744ecf869789ec94d9876d",
       "version_major": 2,
       "version_minor": 0
      },
      "text/plain": [
       "HBox(children=(IntProgress(value=0, description='Iteration (all train)', max=52, style=ProgressStyle(descripti…"
      ]
     },
     "metadata": {},
     "output_type": "display_data"
    },
    {
     "data": {
      "application/vnd.jupyter.widget-view+json": {
       "model_id": "5f6408e4978d4a89b7b6210fb8c2a127",
       "version_major": 2,
       "version_minor": 0
      },
      "text/plain": [
       "HBox(children=(IntProgress(value=0, description='Evaluating', max=2, style=ProgressStyle(description_width='in…"
      ]
     },
     "metadata": {},
     "output_type": "display_data"
    },
    {
     "name": "stderr",
     "output_type": "stream",
     "text": [
      "\r",
      "Epoch:  13%|█▎        | 6/46 [04:50<32:29, 48.74s/it]"
     ]
    },
    {
     "name": "stdout",
     "output_type": "stream",
     "text": [
      "[[25  1  0 21  0 11 42]\n",
      " [ 0 99  0  0  1  0  0]\n",
      " [ 0  0  0  0  0  0  0]\n",
      " [ 0  0  0 99  0  1  0]\n",
      " [ 8  4 28  1 56  3  0]\n",
      " [ 0  0  0  0  0  0  0]\n",
      " [ 1  0  0  0  0  0 99]]\n",
      "5: loss=0.4764009095155276, (u, l) = (0.9005,0.46)\n"
     ]
    },
    {
     "data": {
      "application/vnd.jupyter.widget-view+json": {
       "model_id": "4cfeac9708f14dd5a591bd76244a6eb2",
       "version_major": 2,
       "version_minor": 0
      },
      "text/plain": [
       "HBox(children=(IntProgress(value=0, description='Iteration (labeled)', max=4, style=ProgressStyle(description_…"
      ]
     },
     "metadata": {},
     "output_type": "display_data"
    },
    {
     "data": {
      "application/vnd.jupyter.widget-view+json": {
       "model_id": "a3e21deb6e8e448cae9bae9788855042",
       "version_major": 2,
       "version_minor": 0
      },
      "text/plain": [
       "HBox(children=(IntProgress(value=0, description='Iteration (all train)', max=52, style=ProgressStyle(descripti…"
      ]
     },
     "metadata": {},
     "output_type": "display_data"
    },
    {
     "data": {
      "application/vnd.jupyter.widget-view+json": {
       "model_id": "5485ddfbcd344c038a32de16a5de539b",
       "version_major": 2,
       "version_minor": 0
      },
      "text/plain": [
       "HBox(children=(IntProgress(value=0, description='Evaluating', max=2, style=ProgressStyle(description_width='in…"
      ]
     },
     "metadata": {},
     "output_type": "display_data"
    },
    {
     "name": "stderr",
     "output_type": "stream",
     "text": [
      "\r",
      "Epoch:  15%|█▌        | 7/46 [05:43<32:30, 50.02s/it]"
     ]
    },
    {
     "name": "stdout",
     "output_type": "stream",
     "text": [
      "[[37  1  0 15  0  4 43]\n",
      " [ 0 98  1  0  1  0  0]\n",
      " [ 0  0  0  0  0  0  0]\n",
      " [ 0  0  0 99  0  1  0]\n",
      " [ 6  3 33  1 55  2  0]\n",
      " [ 0  0  0  0  0  0  0]\n",
      " [ 1  0  0  0  0  0 99]]\n",
      "6: loss=0.46056690124365, (u, l) = (0.8906,0.4609)\n"
     ]
    },
    {
     "data": {
      "application/vnd.jupyter.widget-view+json": {
       "model_id": "51d6a53784294859a0de932470bdbc2d",
       "version_major": 2,
       "version_minor": 0
      },
      "text/plain": [
       "HBox(children=(IntProgress(value=0, description='Iteration (labeled)', max=4, style=ProgressStyle(description_…"
      ]
     },
     "metadata": {},
     "output_type": "display_data"
    },
    {
     "data": {
      "application/vnd.jupyter.widget-view+json": {
       "model_id": "b6c9ea77a14b4ad6b4978d08e7d3f11a",
       "version_major": 2,
       "version_minor": 0
      },
      "text/plain": [
       "HBox(children=(IntProgress(value=0, description='Iteration (all train)', max=52, style=ProgressStyle(descripti…"
      ]
     },
     "metadata": {},
     "output_type": "display_data"
    },
    {
     "data": {
      "application/vnd.jupyter.widget-view+json": {
       "model_id": "0c00b44f6d6c44509ba6e4dc33eb0921",
       "version_major": 2,
       "version_minor": 0
      },
      "text/plain": [
       "HBox(children=(IntProgress(value=0, description='Evaluating', max=2, style=ProgressStyle(description_width='in…"
      ]
     },
     "metadata": {},
     "output_type": "display_data"
    },
    {
     "name": "stderr",
     "output_type": "stream",
     "text": [
      "\r",
      "Epoch:  17%|█▋        | 8/46 [06:36<32:13, 50.89s/it]"
     ]
    },
    {
     "name": "stdout",
     "output_type": "stream",
     "text": [
      "[[43  1  0 12  0  4 40]\n",
      " [ 0 98  1  0  1  0  0]\n",
      " [ 0  0  0  0  0  0  0]\n",
      " [ 0  0  0 99  0  1  0]\n",
      " [11  2 24  1 60  2  0]\n",
      " [ 0  0  0  0  0  0  0]\n",
      " [ 1  0  0  0  0  0 99]]\n",
      "7: loss=0.447547598527028, (u, l) = (0.8807,0.4619)\n"
     ]
    },
    {
     "data": {
      "application/vnd.jupyter.widget-view+json": {
       "model_id": "d6c4b86aae7c49d7a02406de3eb9f3d7",
       "version_major": 2,
       "version_minor": 0
      },
      "text/plain": [
       "HBox(children=(IntProgress(value=0, description='Iteration (labeled)', max=4, style=ProgressStyle(description_…"
      ]
     },
     "metadata": {},
     "output_type": "display_data"
    },
    {
     "data": {
      "application/vnd.jupyter.widget-view+json": {
       "model_id": "0c6c6eee4307450ebe4010e27a5c2743",
       "version_major": 2,
       "version_minor": 0
      },
      "text/plain": [
       "HBox(children=(IntProgress(value=0, description='Iteration (all train)', max=52, style=ProgressStyle(descripti…"
      ]
     },
     "metadata": {},
     "output_type": "display_data"
    },
    {
     "data": {
      "application/vnd.jupyter.widget-view+json": {
       "model_id": "97f898289ef148fea0a6dcee90b7ab45",
       "version_major": 2,
       "version_minor": 0
      },
      "text/plain": [
       "HBox(children=(IntProgress(value=0, description='Evaluating', max=2, style=ProgressStyle(description_width='in…"
      ]
     },
     "metadata": {},
     "output_type": "display_data"
    },
    {
     "name": "stderr",
     "output_type": "stream",
     "text": [
      "\r",
      "Epoch:  20%|█▉        | 9/46 [07:30<31:57, 51.83s/it]"
     ]
    },
    {
     "name": "stdout",
     "output_type": "stream",
     "text": [
      "[[ 35   1   0  11   0   3  50]\n",
      " [  0  98   1   0   1   0   0]\n",
      " [  0   0   0   0   0   0   0]\n",
      " [  0   0   0  99   0   1   0]\n",
      " [ 10   2  24   1  61   2   0]\n",
      " [  0   0   0   0   0   0   0]\n",
      " [  0   0   0   0   0   0 100]]\n",
      "8: loss=0.4358903616666794, (u, l) = (0.8708,0.4629)\n"
     ]
    },
    {
     "data": {
      "application/vnd.jupyter.widget-view+json": {
       "model_id": "5a666359c499427dbbc3e0d60a01adfa",
       "version_major": 2,
       "version_minor": 0
      },
      "text/plain": [
       "HBox(children=(IntProgress(value=0, description='Iteration (labeled)', max=4, style=ProgressStyle(description_…"
      ]
     },
     "metadata": {},
     "output_type": "display_data"
    },
    {
     "data": {
      "application/vnd.jupyter.widget-view+json": {
       "model_id": "b7c916cc358247a8858f2e00f405f129",
       "version_major": 2,
       "version_minor": 0
      },
      "text/plain": [
       "HBox(children=(IntProgress(value=0, description='Iteration (all train)', max=52, style=ProgressStyle(descripti…"
      ]
     },
     "metadata": {},
     "output_type": "display_data"
    },
    {
     "data": {
      "application/vnd.jupyter.widget-view+json": {
       "model_id": "1ea5ccfbbc604f59996bdb0ec58fef0c",
       "version_major": 2,
       "version_minor": 0
      },
      "text/plain": [
       "HBox(children=(IntProgress(value=0, description='Evaluating', max=2, style=ProgressStyle(description_width='in…"
      ]
     },
     "metadata": {},
     "output_type": "display_data"
    },
    {
     "name": "stderr",
     "output_type": "stream",
     "text": [
      "\r",
      "Epoch:  22%|██▏       | 10/46 [08:23<31:24, 52.34s/it]"
     ]
    },
    {
     "name": "stdout",
     "output_type": "stream",
     "text": [
      "[[44  1  0 14  0  4 37]\n",
      " [ 0 98  1  0  1  0  0]\n",
      " [ 0  0  0  0  0  0  0]\n",
      " [ 0  0  0 99  0  1  0]\n",
      " [ 8  2 23  1 64  2  0]\n",
      " [ 0  0  0  0  0  0  0]\n",
      " [ 0  0  0  0  1  0 99]]\n",
      "9: loss=0.4218651858659891, (u, l) = (0.8609,0.4639)\n"
     ]
    },
    {
     "data": {
      "application/vnd.jupyter.widget-view+json": {
       "model_id": "b2fe7274977f4fc4beff3275105508b0",
       "version_major": 2,
       "version_minor": 0
      },
      "text/plain": [
       "HBox(children=(IntProgress(value=0, description='Iteration (labeled)', max=4, style=ProgressStyle(description_…"
      ]
     },
     "metadata": {},
     "output_type": "display_data"
    },
    {
     "data": {
      "application/vnd.jupyter.widget-view+json": {
       "model_id": "6f234de6dcd2408da63c2f99ae0680a1",
       "version_major": 2,
       "version_minor": 0
      },
      "text/plain": [
       "HBox(children=(IntProgress(value=0, description='Iteration (all train)', max=52, style=ProgressStyle(descripti…"
      ]
     },
     "metadata": {},
     "output_type": "display_data"
    },
    {
     "data": {
      "application/vnd.jupyter.widget-view+json": {
       "model_id": "39a0cc7a9ad54f04b0acc9d4440ba9ce",
       "version_major": 2,
       "version_minor": 0
      },
      "text/plain": [
       "HBox(children=(IntProgress(value=0, description='Evaluating', max=2, style=ProgressStyle(description_width='in…"
      ]
     },
     "metadata": {},
     "output_type": "display_data"
    },
    {
     "name": "stderr",
     "output_type": "stream",
     "text": [
      "\r",
      "Epoch:  24%|██▍       | 11/46 [09:16<30:42, 52.63s/it]"
     ]
    },
    {
     "name": "stdout",
     "output_type": "stream",
     "text": [
      "[[39  0  0 11  0  8 42]\n",
      " [ 0 98  1  0  1  0  0]\n",
      " [ 0  0  0  0  0  0  0]\n",
      " [ 0  0  0 99  0  1  0]\n",
      " [ 7  2 19  1 69  2  0]\n",
      " [ 0  0  0  0  0  0  0]\n",
      " [ 0  0  0  0  1  0 99]]\n",
      "10: loss=0.4089169674194776, (u, l) = (0.851,0.4649)\n"
     ]
    },
    {
     "data": {
      "application/vnd.jupyter.widget-view+json": {
       "model_id": "12c580d87b894bfdbe8282ab22fd3fad",
       "version_major": 2,
       "version_minor": 0
      },
      "text/plain": [
       "HBox(children=(IntProgress(value=0, description='Iteration (labeled)', max=4, style=ProgressStyle(description_…"
      ]
     },
     "metadata": {},
     "output_type": "display_data"
    },
    {
     "data": {
      "application/vnd.jupyter.widget-view+json": {
       "model_id": "522aac8a81784968898ed6f4e11c2838",
       "version_major": 2,
       "version_minor": 0
      },
      "text/plain": [
       "HBox(children=(IntProgress(value=0, description='Iteration (all train)', max=52, style=ProgressStyle(descripti…"
      ]
     },
     "metadata": {},
     "output_type": "display_data"
    },
    {
     "data": {
      "application/vnd.jupyter.widget-view+json": {
       "model_id": "a22711de234f4d4f966dc7f8ef388346",
       "version_major": 2,
       "version_minor": 0
      },
      "text/plain": [
       "HBox(children=(IntProgress(value=0, description='Evaluating', max=2, style=ProgressStyle(description_width='in…"
      ]
     },
     "metadata": {},
     "output_type": "display_data"
    },
    {
     "name": "stderr",
     "output_type": "stream",
     "text": [
      "\r",
      "Epoch:  26%|██▌       | 12/46 [10:10<29:57, 52.85s/it]"
     ]
    },
    {
     "name": "stdout",
     "output_type": "stream",
     "text": [
      "[[42  0  0 10  0  8 40]\n",
      " [ 0 98  1  0  1  0  0]\n",
      " [ 0  0  0  0  0  0  0]\n",
      " [ 0  0  0 99  0  1  0]\n",
      " [11  2 16  1 68  2  0]\n",
      " [ 0  0  0  0  0  0  0]\n",
      " [ 0  0  0  0  1  0 99]]\n",
      "11: loss=0.3965758841771346, (u, l) = (0.8411,0.4659)\n"
     ]
    },
    {
     "data": {
      "application/vnd.jupyter.widget-view+json": {
       "model_id": "505598a2b1704542ac61511ac3a58c99",
       "version_major": 2,
       "version_minor": 0
      },
      "text/plain": [
       "HBox(children=(IntProgress(value=0, description='Iteration (labeled)', max=4, style=ProgressStyle(description_…"
      ]
     },
     "metadata": {},
     "output_type": "display_data"
    },
    {
     "data": {
      "application/vnd.jupyter.widget-view+json": {
       "model_id": "9c622889739e467fbe15b8dc46c129aa",
       "version_major": 2,
       "version_minor": 0
      },
      "text/plain": [
       "HBox(children=(IntProgress(value=0, description='Iteration (all train)', max=52, style=ProgressStyle(descripti…"
      ]
     },
     "metadata": {},
     "output_type": "display_data"
    },
    {
     "data": {
      "application/vnd.jupyter.widget-view+json": {
       "model_id": "fcd593343b1e4a24b6c8c3f214252cd9",
       "version_major": 2,
       "version_minor": 0
      },
      "text/plain": [
       "HBox(children=(IntProgress(value=0, description='Evaluating', max=2, style=ProgressStyle(description_width='in…"
      ]
     },
     "metadata": {},
     "output_type": "display_data"
    },
    {
     "name": "stderr",
     "output_type": "stream",
     "text": [
      "\r",
      "Epoch:  28%|██▊       | 13/46 [11:04<29:15, 53.19s/it]"
     ]
    },
    {
     "name": "stdout",
     "output_type": "stream",
     "text": [
      "[[ 40   0   0   8   0  11  41]\n",
      " [  0  98   0   0   1   1   0]\n",
      " [  0   0   0   0   0   0   0]\n",
      " [  0   0   0  99   0   1   0]\n",
      " [  9   2  18   1  68   2   0]\n",
      " [  0   0   0   0   0   0   0]\n",
      " [  0   0   0   0   0   0 100]]\n",
      "12: loss=0.385424493597104, (u, l) = (0.8312,0.4669)\n"
     ]
    },
    {
     "data": {
      "application/vnd.jupyter.widget-view+json": {
       "model_id": "f72cfea1478343ffba699f2595a8d05e",
       "version_major": 2,
       "version_minor": 0
      },
      "text/plain": [
       "HBox(children=(IntProgress(value=0, description='Iteration (labeled)', max=4, style=ProgressStyle(description_…"
      ]
     },
     "metadata": {},
     "output_type": "display_data"
    },
    {
     "data": {
      "application/vnd.jupyter.widget-view+json": {
       "model_id": "fc14e9df944b4ce59464091dd4fca1ea",
       "version_major": 2,
       "version_minor": 0
      },
      "text/plain": [
       "HBox(children=(IntProgress(value=0, description='Iteration (all train)', max=52, style=ProgressStyle(descripti…"
      ]
     },
     "metadata": {},
     "output_type": "display_data"
    },
    {
     "data": {
      "application/vnd.jupyter.widget-view+json": {
       "model_id": "a50d68eba8ce46e8a3d20e44bbf947e3",
       "version_major": 2,
       "version_minor": 0
      },
      "text/plain": [
       "HBox(children=(IntProgress(value=0, description='Evaluating', max=2, style=ProgressStyle(description_width='in…"
      ]
     },
     "metadata": {},
     "output_type": "display_data"
    },
    {
     "name": "stderr",
     "output_type": "stream",
     "text": [
      "\r",
      "Epoch:  30%|███       | 14/46 [11:56<28:14, 52.97s/it]"
     ]
    },
    {
     "name": "stdout",
     "output_type": "stream",
     "text": [
      "[[ 39   0   0  10   0  11  40]\n",
      " [  0  98   0   0   1   1   0]\n",
      " [  0   0   0   0   0   0   0]\n",
      " [  0   0   0  99   0   1   0]\n",
      " [ 10   1  18   1  68   2   0]\n",
      " [  0   0   0   0   0   0   0]\n",
      " [  0   0   0   0   0   0 100]]\n",
      "13: loss=0.37321917368815494, (u, l) = (0.8213,0.4679)\n"
     ]
    },
    {
     "data": {
      "application/vnd.jupyter.widget-view+json": {
       "model_id": "cd47a2f4fc7c40f8a94392bd3614b116",
       "version_major": 2,
       "version_minor": 0
      },
      "text/plain": [
       "HBox(children=(IntProgress(value=0, description='Iteration (labeled)', max=4, style=ProgressStyle(description_…"
      ]
     },
     "metadata": {},
     "output_type": "display_data"
    },
    {
     "data": {
      "application/vnd.jupyter.widget-view+json": {
       "model_id": "1856de65e2e34ff789e20c731b53db99",
       "version_major": 2,
       "version_minor": 0
      },
      "text/plain": [
       "HBox(children=(IntProgress(value=0, description='Iteration (all train)', max=52, style=ProgressStyle(descripti…"
      ]
     },
     "metadata": {},
     "output_type": "display_data"
    },
    {
     "data": {
      "application/vnd.jupyter.widget-view+json": {
       "model_id": "c890b0b861e74dd3a7006f2de668fe51",
       "version_major": 2,
       "version_minor": 0
      },
      "text/plain": [
       "HBox(children=(IntProgress(value=0, description='Evaluating', max=2, style=ProgressStyle(description_width='in…"
      ]
     },
     "metadata": {},
     "output_type": "display_data"
    },
    {
     "name": "stderr",
     "output_type": "stream",
     "text": [
      "\r",
      "Epoch:  33%|███▎      | 15/46 [12:50<27:30, 53.25s/it]"
     ]
    },
    {
     "name": "stdout",
     "output_type": "stream",
     "text": [
      "[[ 39   0   0  10   0  14  37]\n",
      " [  0  98   0   0   1   1   0]\n",
      " [  0   0   0   0   0   0   0]\n",
      " [  0   0   0  99   0   1   0]\n",
      " [  9   1  17   1  69   3   0]\n",
      " [  0   0   0   0   0   0   0]\n",
      " [  0   0   0   0   0   0 100]]\n",
      "14: loss=0.3616527651364987, (u, l) = (0.8114,0.4689)\n"
     ]
    },
    {
     "data": {
      "application/vnd.jupyter.widget-view+json": {
       "model_id": "08843f15ed034161b7dd5c687f363be4",
       "version_major": 2,
       "version_minor": 0
      },
      "text/plain": [
       "HBox(children=(IntProgress(value=0, description='Iteration (labeled)', max=4, style=ProgressStyle(description_…"
      ]
     },
     "metadata": {},
     "output_type": "display_data"
    },
    {
     "data": {
      "application/vnd.jupyter.widget-view+json": {
       "model_id": "7b875a2323124a4ea362f6fa93112758",
       "version_major": 2,
       "version_minor": 0
      },
      "text/plain": [
       "HBox(children=(IntProgress(value=0, description='Iteration (all train)', max=52, style=ProgressStyle(descripti…"
      ]
     },
     "metadata": {},
     "output_type": "display_data"
    },
    {
     "data": {
      "application/vnd.jupyter.widget-view+json": {
       "model_id": "02113e9d6d4f46d6a46d57e372ecc472",
       "version_major": 2,
       "version_minor": 0
      },
      "text/plain": [
       "HBox(children=(IntProgress(value=0, description='Evaluating', max=2, style=ProgressStyle(description_width='in…"
      ]
     },
     "metadata": {},
     "output_type": "display_data"
    },
    {
     "name": "stderr",
     "output_type": "stream",
     "text": [
      "\r",
      "Epoch:  35%|███▍      | 16/46 [13:44<26:41, 53.37s/it]"
     ]
    },
    {
     "name": "stdout",
     "output_type": "stream",
     "text": [
      "[[47  0  0  7  0  9 37]\n",
      " [ 0 98  0  0  1  1  0]\n",
      " [ 0  0  0  0  0  0  0]\n",
      " [ 0  0  0 99  0  1  0]\n",
      " [ 9  1 16  1 70  3  0]\n",
      " [ 0  0  0  0  0  0  0]\n",
      " [ 0  0  0  0  1  0 99]]\n",
      "15: loss=0.3502768518833014, (u, l) = (0.8015,0.4698)\n"
     ]
    },
    {
     "data": {
      "application/vnd.jupyter.widget-view+json": {
       "model_id": "63a59500e3ee4305a5523a87d569fcc6",
       "version_major": 2,
       "version_minor": 0
      },
      "text/plain": [
       "HBox(children=(IntProgress(value=0, description='Iteration (labeled)', max=4, style=ProgressStyle(description_…"
      ]
     },
     "metadata": {},
     "output_type": "display_data"
    },
    {
     "data": {
      "application/vnd.jupyter.widget-view+json": {
       "model_id": "ef566f9375324c35a2b2e1e61dfea26c",
       "version_major": 2,
       "version_minor": 0
      },
      "text/plain": [
       "HBox(children=(IntProgress(value=0, description='Iteration (all train)', max=52, style=ProgressStyle(descripti…"
      ]
     },
     "metadata": {},
     "output_type": "display_data"
    },
    {
     "data": {
      "application/vnd.jupyter.widget-view+json": {
       "model_id": "ed1fd32fd2b54c1f8e42ae89fb5a884d",
       "version_major": 2,
       "version_minor": 0
      },
      "text/plain": [
       "HBox(children=(IntProgress(value=0, description='Evaluating', max=2, style=ProgressStyle(description_width='in…"
      ]
     },
     "metadata": {},
     "output_type": "display_data"
    },
    {
     "name": "stderr",
     "output_type": "stream",
     "text": [
      "\r",
      "Epoch:  37%|███▋      | 17/46 [14:38<25:52, 53.52s/it]"
     ]
    },
    {
     "name": "stdout",
     "output_type": "stream",
     "text": [
      "[[44  0  0  6  0 10 40]\n",
      " [ 0 99  0  0  0  1  0]\n",
      " [ 0  0  0  0  0  0  0]\n",
      " [ 0  0  0 99  0  1  0]\n",
      " [ 9  1 15  1 71  3  0]\n",
      " [ 0  0  0  0  0  0  0]\n",
      " [ 0  0  0  0  1  0 99]]\n",
      "16: loss=0.3386179839189236, (u, l) = (0.7916,0.4708)\n"
     ]
    },
    {
     "data": {
      "application/vnd.jupyter.widget-view+json": {
       "model_id": "4e20a98c19a24490a320f3e884e3a66f",
       "version_major": 2,
       "version_minor": 0
      },
      "text/plain": [
       "HBox(children=(IntProgress(value=0, description='Iteration (labeled)', max=4, style=ProgressStyle(description_…"
      ]
     },
     "metadata": {},
     "output_type": "display_data"
    },
    {
     "data": {
      "application/vnd.jupyter.widget-view+json": {
       "model_id": "bb9553a6a61d4b00a09abc1cf0f359e3",
       "version_major": 2,
       "version_minor": 0
      },
      "text/plain": [
       "HBox(children=(IntProgress(value=0, description='Iteration (all train)', max=52, style=ProgressStyle(descripti…"
      ]
     },
     "metadata": {},
     "output_type": "display_data"
    },
    {
     "data": {
      "application/vnd.jupyter.widget-view+json": {
       "model_id": "19120799abca475c9e2da931015f64b1",
       "version_major": 2,
       "version_minor": 0
      },
      "text/plain": [
       "HBox(children=(IntProgress(value=0, description='Evaluating', max=2, style=ProgressStyle(description_width='in…"
      ]
     },
     "metadata": {},
     "output_type": "display_data"
    },
    {
     "name": "stderr",
     "output_type": "stream",
     "text": [
      "\r",
      "Epoch:  39%|███▉      | 18/46 [15:31<24:55, 53.42s/it]"
     ]
    },
    {
     "name": "stdout",
     "output_type": "stream",
     "text": [
      "[[41  0  0  9  0 12 38]\n",
      " [ 0 98  0  0  1  1  0]\n",
      " [ 0  0  0  0  0  0  0]\n",
      " [ 0  0  0 99  0  1  0]\n",
      " [ 8  1 14  1 73  3  0]\n",
      " [ 0  0  0  0  0  0  0]\n",
      " [ 0  0  0  0  1  0 99]]\n",
      "17: loss=0.3270162229354565, (u, l) = (0.7817,0.4718)\n"
     ]
    },
    {
     "data": {
      "application/vnd.jupyter.widget-view+json": {
       "model_id": "1c1748921542423dbbb70aa3d990f6a0",
       "version_major": 2,
       "version_minor": 0
      },
      "text/plain": [
       "HBox(children=(IntProgress(value=0, description='Iteration (labeled)', max=4, style=ProgressStyle(description_…"
      ]
     },
     "metadata": {},
     "output_type": "display_data"
    },
    {
     "data": {
      "application/vnd.jupyter.widget-view+json": {
       "model_id": "24b2cda483bc45be86309e79c4270ad9",
       "version_major": 2,
       "version_minor": 0
      },
      "text/plain": [
       "HBox(children=(IntProgress(value=0, description='Iteration (all train)', max=52, style=ProgressStyle(descripti…"
      ]
     },
     "metadata": {},
     "output_type": "display_data"
    },
    {
     "data": {
      "application/vnd.jupyter.widget-view+json": {
       "model_id": "274c2d9f25614a229ea219bf06e5528a",
       "version_major": 2,
       "version_minor": 0
      },
      "text/plain": [
       "HBox(children=(IntProgress(value=0, description='Evaluating', max=2, style=ProgressStyle(description_width='in…"
      ]
     },
     "metadata": {},
     "output_type": "display_data"
    },
    {
     "name": "stderr",
     "output_type": "stream",
     "text": [
      "\r",
      "Epoch:  41%|████▏     | 19/46 [16:25<24:05, 53.53s/it]"
     ]
    },
    {
     "name": "stdout",
     "output_type": "stream",
     "text": [
      "[[48  0  0  8  0 11 33]\n",
      " [ 0 98  0  0  1  1  0]\n",
      " [ 0  0  0  0  0  0  0]\n",
      " [ 0  0  0 99  0  1  0]\n",
      " [ 9  1 15  1 71  3  0]\n",
      " [ 0  0  0  0  0  0  0]\n",
      " [ 0  0  0  0  1  0 99]]\n",
      "18: loss=0.3154724801962192, (u, l) = (0.7718,0.4728)\n"
     ]
    },
    {
     "data": {
      "application/vnd.jupyter.widget-view+json": {
       "model_id": "42be5dc5befd40ffbef964c8a36e4981",
       "version_major": 2,
       "version_minor": 0
      },
      "text/plain": [
       "HBox(children=(IntProgress(value=0, description='Iteration (labeled)', max=4, style=ProgressStyle(description_…"
      ]
     },
     "metadata": {},
     "output_type": "display_data"
    },
    {
     "data": {
      "application/vnd.jupyter.widget-view+json": {
       "model_id": "92fe993aaae243c9ac7aa90847b27aad",
       "version_major": 2,
       "version_minor": 0
      },
      "text/plain": [
       "HBox(children=(IntProgress(value=0, description='Iteration (all train)', max=52, style=ProgressStyle(descripti…"
      ]
     },
     "metadata": {},
     "output_type": "display_data"
    },
    {
     "data": {
      "application/vnd.jupyter.widget-view+json": {
       "model_id": "260d64782a79456b9ef91cf9d2304ce4",
       "version_major": 2,
       "version_minor": 0
      },
      "text/plain": [
       "HBox(children=(IntProgress(value=0, description='Evaluating', max=2, style=ProgressStyle(description_width='in…"
      ]
     },
     "metadata": {},
     "output_type": "display_data"
    },
    {
     "name": "stderr",
     "output_type": "stream",
     "text": [
      "\r",
      "Epoch:  43%|████▎     | 20/46 [17:18<23:13, 53.61s/it]"
     ]
    },
    {
     "name": "stdout",
     "output_type": "stream",
     "text": [
      "[[48  1  0  5  0 11 35]\n",
      " [ 0 98  0  0  1  1  0]\n",
      " [ 0  0  0  0  0  0  0]\n",
      " [ 0  0  0 99  0  1  0]\n",
      " [10  1 15  1 70  3  0]\n",
      " [ 0  0  0  0  0  0  0]\n",
      " [ 0  0  0  0  1  0 99]]\n",
      "19: loss=0.3043116835447458, (u, l) = (0.7619,0.4738)\n"
     ]
    },
    {
     "data": {
      "application/vnd.jupyter.widget-view+json": {
       "model_id": "31c98c633fe34b03ba9a1a79fe4acd3c",
       "version_major": 2,
       "version_minor": 0
      },
      "text/plain": [
       "HBox(children=(IntProgress(value=0, description='Iteration (labeled)', max=4, style=ProgressStyle(description_…"
      ]
     },
     "metadata": {},
     "output_type": "display_data"
    },
    {
     "data": {
      "application/vnd.jupyter.widget-view+json": {
       "model_id": "d1cce8afc5ad4e11bbcb7025cd735cfc",
       "version_major": 2,
       "version_minor": 0
      },
      "text/plain": [
       "HBox(children=(IntProgress(value=0, description='Iteration (all train)', max=52, style=ProgressStyle(descripti…"
      ]
     },
     "metadata": {},
     "output_type": "display_data"
    },
    {
     "data": {
      "application/vnd.jupyter.widget-view+json": {
       "model_id": "e4529a18ff6644618d0d740d7bf3ce81",
       "version_major": 2,
       "version_minor": 0
      },
      "text/plain": [
       "HBox(children=(IntProgress(value=0, description='Evaluating', max=2, style=ProgressStyle(description_width='in…"
      ]
     },
     "metadata": {},
     "output_type": "display_data"
    },
    {
     "name": "stderr",
     "output_type": "stream",
     "text": [
      "\r",
      "Epoch:  46%|████▌     | 21/46 [18:11<22:15, 53.43s/it]"
     ]
    },
    {
     "name": "stdout",
     "output_type": "stream",
     "text": [
      "[[40  1  0  8  0 13 38]\n",
      " [ 0 98  0  0  1  1  0]\n",
      " [ 0  0  0  0  0  0  0]\n",
      " [ 0  0  0 99  0  1  0]\n",
      " [ 9  0 15  1 72  3  0]\n",
      " [ 0  0  0  0  0  0  0]\n",
      " [ 0  0  0  0  1  0 99]]\n",
      "20: loss=0.29329631878779483, (u, l) = (0.752,0.4748)\n"
     ]
    },
    {
     "data": {
      "application/vnd.jupyter.widget-view+json": {
       "model_id": "9eeb8180f8cf4639a1c8859c8a67da52",
       "version_major": 2,
       "version_minor": 0
      },
      "text/plain": [
       "HBox(children=(IntProgress(value=0, description='Iteration (labeled)', max=4, style=ProgressStyle(description_…"
      ]
     },
     "metadata": {},
     "output_type": "display_data"
    },
    {
     "data": {
      "application/vnd.jupyter.widget-view+json": {
       "model_id": "649e7b0eb9c6493d8b7ea534b51223f9",
       "version_major": 2,
       "version_minor": 0
      },
      "text/plain": [
       "HBox(children=(IntProgress(value=0, description='Iteration (all train)', max=52, style=ProgressStyle(descripti…"
      ]
     },
     "metadata": {},
     "output_type": "display_data"
    },
    {
     "data": {
      "application/vnd.jupyter.widget-view+json": {
       "model_id": "8e60625692584209925ce56d1d3f8d86",
       "version_major": 2,
       "version_minor": 0
      },
      "text/plain": [
       "HBox(children=(IntProgress(value=0, description='Evaluating', max=2, style=ProgressStyle(description_width='in…"
      ]
     },
     "metadata": {},
     "output_type": "display_data"
    },
    {
     "name": "stderr",
     "output_type": "stream",
     "text": [
      "\r",
      "Epoch:  48%|████▊     | 22/46 [19:05<21:22, 53.44s/it]"
     ]
    },
    {
     "name": "stdout",
     "output_type": "stream",
     "text": [
      "[[34  1 17  8  0  0 40]\n",
      " [ 0 98  1  0  1  0  0]\n",
      " [ 0  0  0  0  0  0  0]\n",
      " [ 0  0  1 99  0  0  0]\n",
      " [ 8  0  3  1 73 15  0]\n",
      " [ 0  0  0  0  0  0  0]\n",
      " [ 0  0  0  0  1  0 99]]\n",
      "21: loss=0.2816082422549908, (u, l) = (0.7421,0.4758)\n"
     ]
    },
    {
     "data": {
      "application/vnd.jupyter.widget-view+json": {
       "model_id": "a27c0c8664714a8fa5bc6c027ac59b2f",
       "version_major": 2,
       "version_minor": 0
      },
      "text/plain": [
       "HBox(children=(IntProgress(value=0, description='Iteration (labeled)', max=4, style=ProgressStyle(description_…"
      ]
     },
     "metadata": {},
     "output_type": "display_data"
    },
    {
     "data": {
      "application/vnd.jupyter.widget-view+json": {
       "model_id": "17e84dd15a134584a829ddd011910c7c",
       "version_major": 2,
       "version_minor": 0
      },
      "text/plain": [
       "HBox(children=(IntProgress(value=0, description='Iteration (all train)', max=52, style=ProgressStyle(descripti…"
      ]
     },
     "metadata": {},
     "output_type": "display_data"
    },
    {
     "data": {
      "application/vnd.jupyter.widget-view+json": {
       "model_id": "b3526782ad1f4221808bdfed635e04d1",
       "version_major": 2,
       "version_minor": 0
      },
      "text/plain": [
       "HBox(children=(IntProgress(value=0, description='Evaluating', max=2, style=ProgressStyle(description_width='in…"
      ]
     },
     "metadata": {},
     "output_type": "display_data"
    },
    {
     "name": "stderr",
     "output_type": "stream",
     "text": [
      "\r",
      "Epoch:  50%|█████     | 23/46 [19:59<20:31, 53.55s/it]"
     ]
    },
    {
     "name": "stdout",
     "output_type": "stream",
     "text": [
      "[[37  1  0  6  0 14 42]\n",
      " [ 0 98  0  0  1  1  0]\n",
      " [ 0  0  0  0  0  0  0]\n",
      " [ 0  0  0 99  0  1  0]\n",
      " [ 8  0 15  1 73  3  0]\n",
      " [ 0  0  0  0  0  0  0]\n",
      " [ 0  0  0  0  1  0 99]]\n",
      "22: loss=0.2706518998512855, (u, l) = (0.7322,0.4768)\n"
     ]
    },
    {
     "data": {
      "application/vnd.jupyter.widget-view+json": {
       "model_id": "2ed72e32bd1040f390891ef87761d365",
       "version_major": 2,
       "version_minor": 0
      },
      "text/plain": [
       "HBox(children=(IntProgress(value=0, description='Iteration (labeled)', max=4, style=ProgressStyle(description_…"
      ]
     },
     "metadata": {},
     "output_type": "display_data"
    },
    {
     "data": {
      "application/vnd.jupyter.widget-view+json": {
       "model_id": "330850bf2131497abb1a65c01bc1f0f5",
       "version_major": 2,
       "version_minor": 0
      },
      "text/plain": [
       "HBox(children=(IntProgress(value=0, description='Iteration (all train)', max=52, style=ProgressStyle(descripti…"
      ]
     },
     "metadata": {},
     "output_type": "display_data"
    },
    {
     "data": {
      "application/vnd.jupyter.widget-view+json": {
       "model_id": "265c53cc2838437186f6bc14548aa4a1",
       "version_major": 2,
       "version_minor": 0
      },
      "text/plain": [
       "HBox(children=(IntProgress(value=0, description='Evaluating', max=2, style=ProgressStyle(description_width='in…"
      ]
     },
     "metadata": {},
     "output_type": "display_data"
    },
    {
     "name": "stderr",
     "output_type": "stream",
     "text": [
      "\r",
      "Epoch:  52%|█████▏    | 24/46 [20:53<19:40, 53.65s/it]"
     ]
    },
    {
     "name": "stdout",
     "output_type": "stream",
     "text": [
      "[[39  1  0  6  0 13 41]\n",
      " [ 0 98  0  0  1  1  0]\n",
      " [ 0  0  0  0  0  0  0]\n",
      " [ 0  0  0 99  0  1  0]\n",
      " [ 8  0 15  1 73  3  0]\n",
      " [ 0  0  0  0  0  0  0]\n",
      " [ 0  0  0  0  1  0 99]]\n",
      "23: loss=0.259867970760052, (u, l) = (0.7223,0.4778)\n"
     ]
    },
    {
     "data": {
      "application/vnd.jupyter.widget-view+json": {
       "model_id": "c87278a70d0c4718a91567eaf50bfa15",
       "version_major": 2,
       "version_minor": 0
      },
      "text/plain": [
       "HBox(children=(IntProgress(value=0, description='Iteration (labeled)', max=4, style=ProgressStyle(description_…"
      ]
     },
     "metadata": {},
     "output_type": "display_data"
    },
    {
     "data": {
      "application/vnd.jupyter.widget-view+json": {
       "model_id": "adef4953b0114b14bcf4f53f641e0e29",
       "version_major": 2,
       "version_minor": 0
      },
      "text/plain": [
       "HBox(children=(IntProgress(value=0, description='Iteration (all train)', max=52, style=ProgressStyle(descripti…"
      ]
     },
     "metadata": {},
     "output_type": "display_data"
    },
    {
     "data": {
      "application/vnd.jupyter.widget-view+json": {
       "model_id": "314b7f80f8184eaab4c545894a26931c",
       "version_major": 2,
       "version_minor": 0
      },
      "text/plain": [
       "HBox(children=(IntProgress(value=0, description='Evaluating', max=2, style=ProgressStyle(description_width='in…"
      ]
     },
     "metadata": {},
     "output_type": "display_data"
    },
    {
     "name": "stderr",
     "output_type": "stream",
     "text": [
      "\r",
      "Epoch:  54%|█████▍    | 25/46 [21:46<18:45, 53.58s/it]"
     ]
    },
    {
     "name": "stdout",
     "output_type": "stream",
     "text": [
      "[[46  1  0  9  0 10 34]\n",
      " [ 0 98  0  0  1  1  0]\n",
      " [ 0  0  0  0  0  0  0]\n",
      " [ 0  0  0 99  0  1  0]\n",
      " [ 7  0 14  1 75  3  0]\n",
      " [ 0  0  0  0  0  0  0]\n",
      " [ 0  0  0  0  1  0 99]]\n",
      "24: loss=0.24830834911419794, (u, l) = (0.7124,0.4788)\n"
     ]
    },
    {
     "data": {
      "application/vnd.jupyter.widget-view+json": {
       "model_id": "e91d0e18fa204c2f92c8443f8d3a1bce",
       "version_major": 2,
       "version_minor": 0
      },
      "text/plain": [
       "HBox(children=(IntProgress(value=0, description='Iteration (labeled)', max=4, style=ProgressStyle(description_…"
      ]
     },
     "metadata": {},
     "output_type": "display_data"
    },
    {
     "data": {
      "application/vnd.jupyter.widget-view+json": {
       "model_id": "2365beeeb2414efca74360c67d52cc2d",
       "version_major": 2,
       "version_minor": 0
      },
      "text/plain": [
       "HBox(children=(IntProgress(value=0, description='Iteration (all train)', max=52, style=ProgressStyle(descripti…"
      ]
     },
     "metadata": {},
     "output_type": "display_data"
    },
    {
     "data": {
      "application/vnd.jupyter.widget-view+json": {
       "model_id": "2cc82ab26b494702bb4033448c77c0a1",
       "version_major": 2,
       "version_minor": 0
      },
      "text/plain": [
       "HBox(children=(IntProgress(value=0, description='Evaluating', max=2, style=ProgressStyle(description_width='in…"
      ]
     },
     "metadata": {},
     "output_type": "display_data"
    },
    {
     "name": "stderr",
     "output_type": "stream",
     "text": [
      "\r",
      "Epoch:  57%|█████▋    | 26/46 [22:39<17:48, 53.45s/it]"
     ]
    },
    {
     "name": "stdout",
     "output_type": "stream",
     "text": [
      "[[42  1 18  7  0  0 32]\n",
      " [ 0 98  1  0  1  0  0]\n",
      " [ 0  0  0  0  0  0  0]\n",
      " [ 0  0  1 99  0  0  0]\n",
      " [ 7  0  3  1 75 14  0]\n",
      " [ 0  0  0  0  0  0  0]\n",
      " [ 0  0  0  0  1  0 99]]\n",
      "25: loss=0.2370733882372196, (u, l) = (0.7025,0.4798)\n"
     ]
    },
    {
     "data": {
      "application/vnd.jupyter.widget-view+json": {
       "model_id": "0640376d79354bc4a603d703a25b6be4",
       "version_major": 2,
       "version_minor": 0
      },
      "text/plain": [
       "HBox(children=(IntProgress(value=0, description='Iteration (labeled)', max=4, style=ProgressStyle(description_…"
      ]
     },
     "metadata": {},
     "output_type": "display_data"
    },
    {
     "data": {
      "application/vnd.jupyter.widget-view+json": {
       "model_id": "389f8263fa3c4e4bb3ba4333a6b075b9",
       "version_major": 2,
       "version_minor": 0
      },
      "text/plain": [
       "HBox(children=(IntProgress(value=0, description='Iteration (all train)', max=52, style=ProgressStyle(descripti…"
      ]
     },
     "metadata": {},
     "output_type": "display_data"
    },
    {
     "data": {
      "application/vnd.jupyter.widget-view+json": {
       "model_id": "9538398d0fe545e69412cce84d02a36f",
       "version_major": 2,
       "version_minor": 0
      },
      "text/plain": [
       "HBox(children=(IntProgress(value=0, description='Evaluating', max=2, style=ProgressStyle(description_width='in…"
      ]
     },
     "metadata": {},
     "output_type": "display_data"
    },
    {
     "name": "stderr",
     "output_type": "stream",
     "text": [
      "\r",
      "Epoch:  59%|█████▊    | 27/46 [23:33<16:57, 53.53s/it]"
     ]
    },
    {
     "name": "stdout",
     "output_type": "stream",
     "text": [
      "[[46  1  0  9  0 12 32]\n",
      " [ 0 98  0  0  1  1  0]\n",
      " [ 0  0  0  0  0  0  0]\n",
      " [ 0  0  0 99  0  1  0]\n",
      " [ 8  0 14  1 74  3  0]\n",
      " [ 0  0  0  0  0  0  0]\n",
      " [ 0  0  0  0  1  0 99]]\n",
      "26: loss=0.22592863555137926, (u, l) = (0.6926,0.4807)\n"
     ]
    },
    {
     "data": {
      "application/vnd.jupyter.widget-view+json": {
       "model_id": "7d7a052225e04689a2f93c01f480066a",
       "version_major": 2,
       "version_minor": 0
      },
      "text/plain": [
       "HBox(children=(IntProgress(value=0, description='Iteration (labeled)', max=4, style=ProgressStyle(description_…"
      ]
     },
     "metadata": {},
     "output_type": "display_data"
    },
    {
     "data": {
      "application/vnd.jupyter.widget-view+json": {
       "model_id": "f3a3615f058e4dc7a6d913f3889a0895",
       "version_major": 2,
       "version_minor": 0
      },
      "text/plain": [
       "HBox(children=(IntProgress(value=0, description='Iteration (all train)', max=52, style=ProgressStyle(descripti…"
      ]
     },
     "metadata": {},
     "output_type": "display_data"
    },
    {
     "data": {
      "application/vnd.jupyter.widget-view+json": {
       "model_id": "561f7119429843c28bd98259bb014d1d",
       "version_major": 2,
       "version_minor": 0
      },
      "text/plain": [
       "HBox(children=(IntProgress(value=0, description='Evaluating', max=2, style=ProgressStyle(description_width='in…"
      ]
     },
     "metadata": {},
     "output_type": "display_data"
    },
    {
     "name": "stderr",
     "output_type": "stream",
     "text": [
      "\r",
      "Epoch:  61%|██████    | 28/46 [24:26<15:59, 53.30s/it]"
     ]
    },
    {
     "name": "stdout",
     "output_type": "stream",
     "text": [
      "[[44  0 16  6  0  0 34]\n",
      " [ 0 98  1  0  1  0  0]\n",
      " [ 0  0  0  0  0  0  0]\n",
      " [ 0  0  1 99  0  0  0]\n",
      " [ 8  0  3  1 74 14  0]\n",
      " [ 0  0  0  0  0  0  0]\n",
      " [ 0  0  0  0  1  0 99]]\n",
      "27: loss=0.21512280519192034, (u, l) = (0.6827,0.4817)\n"
     ]
    },
    {
     "data": {
      "application/vnd.jupyter.widget-view+json": {
       "model_id": "89e1a0555a264914971d9fe4944ffc6c",
       "version_major": 2,
       "version_minor": 0
      },
      "text/plain": [
       "HBox(children=(IntProgress(value=0, description='Iteration (labeled)', max=4, style=ProgressStyle(description_…"
      ]
     },
     "metadata": {},
     "output_type": "display_data"
    },
    {
     "data": {
      "application/vnd.jupyter.widget-view+json": {
       "model_id": "2d847589bfc34cbe8299f0b8b776f24c",
       "version_major": 2,
       "version_minor": 0
      },
      "text/plain": [
       "HBox(children=(IntProgress(value=0, description='Iteration (all train)', max=52, style=ProgressStyle(descripti…"
      ]
     },
     "metadata": {},
     "output_type": "display_data"
    },
    {
     "data": {
      "application/vnd.jupyter.widget-view+json": {
       "model_id": "fcaad7c1ba2744d0bb9586063226b579",
       "version_major": 2,
       "version_minor": 0
      },
      "text/plain": [
       "HBox(children=(IntProgress(value=0, description='Evaluating', max=2, style=ProgressStyle(description_width='in…"
      ]
     },
     "metadata": {},
     "output_type": "display_data"
    },
    {
     "name": "stderr",
     "output_type": "stream",
     "text": [
      "\r",
      "Epoch:  63%|██████▎   | 29/46 [25:20<15:10, 53.58s/it]"
     ]
    },
    {
     "name": "stdout",
     "output_type": "stream",
     "text": [
      "[[38  1 15  7  0  0 39]\n",
      " [ 0 98  1  0  1  0  0]\n",
      " [ 0  0  0  0  0  0  0]\n",
      " [ 0  0  1 99  0  0  0]\n",
      " [ 8  0  4  1 74 13  0]\n",
      " [ 0  0  0  0  0  0  0]\n",
      " [ 0  0  0  0  1  0 99]]\n",
      "28: loss=0.20412253187252924, (u, l) = (0.6728,0.4827)\n"
     ]
    },
    {
     "data": {
      "application/vnd.jupyter.widget-view+json": {
       "model_id": "47546f09ade84a0c942ae0343f0381a4",
       "version_major": 2,
       "version_minor": 0
      },
      "text/plain": [
       "HBox(children=(IntProgress(value=0, description='Iteration (labeled)', max=4, style=ProgressStyle(description_…"
      ]
     },
     "metadata": {},
     "output_type": "display_data"
    },
    {
     "data": {
      "application/vnd.jupyter.widget-view+json": {
       "model_id": "6f99fc12a1134f28b85ef5ec51c592b1",
       "version_major": 2,
       "version_minor": 0
      },
      "text/plain": [
       "HBox(children=(IntProgress(value=0, description='Iteration (all train)', max=52, style=ProgressStyle(descripti…"
      ]
     },
     "metadata": {},
     "output_type": "display_data"
    },
    {
     "data": {
      "application/vnd.jupyter.widget-view+json": {
       "model_id": "313cf138d50144f4afd17f5093da47b7",
       "version_major": 2,
       "version_minor": 0
      },
      "text/plain": [
       "HBox(children=(IntProgress(value=0, description='Evaluating', max=2, style=ProgressStyle(description_width='in…"
      ]
     },
     "metadata": {},
     "output_type": "display_data"
    },
    {
     "name": "stderr",
     "output_type": "stream",
     "text": [
      "\r",
      "Epoch:  65%|██████▌   | 30/46 [26:13<14:16, 53.51s/it]"
     ]
    },
    {
     "name": "stdout",
     "output_type": "stream",
     "text": [
      "[[39  1 17  6  0  0 37]\n",
      " [ 0 98  1  0  1  0  0]\n",
      " [ 0  0  0  0  0  0  0]\n",
      " [ 0  0  1 99  0  0  0]\n",
      " [ 7  0  5  1 74 13  0]\n",
      " [ 0  0  0  0  0  0  0]\n",
      " [ 0  0  0  0  1  0 99]]\n",
      "29: loss=0.1928740808596978, (u, l) = (0.6629,0.4837)\n"
     ]
    },
    {
     "data": {
      "application/vnd.jupyter.widget-view+json": {
       "model_id": "a6247e815e914c1da79bd3d9ab1ad678",
       "version_major": 2,
       "version_minor": 0
      },
      "text/plain": [
       "HBox(children=(IntProgress(value=0, description='Iteration (labeled)', max=4, style=ProgressStyle(description_…"
      ]
     },
     "metadata": {},
     "output_type": "display_data"
    },
    {
     "data": {
      "application/vnd.jupyter.widget-view+json": {
       "model_id": "ada402a249004be184b7f2c8d96edafc",
       "version_major": 2,
       "version_minor": 0
      },
      "text/plain": [
       "HBox(children=(IntProgress(value=0, description='Iteration (all train)', max=52, style=ProgressStyle(descripti…"
      ]
     },
     "metadata": {},
     "output_type": "display_data"
    },
    {
     "data": {
      "application/vnd.jupyter.widget-view+json": {
       "model_id": "8da4e4c391774bf5b434d63dd799bc57",
       "version_major": 2,
       "version_minor": 0
      },
      "text/plain": [
       "HBox(children=(IntProgress(value=0, description='Evaluating', max=2, style=ProgressStyle(description_width='in…"
      ]
     },
     "metadata": {},
     "output_type": "display_data"
    },
    {
     "name": "stderr",
     "output_type": "stream",
     "text": [
      "\r",
      "Epoch:  67%|██████▋   | 31/46 [27:06<13:19, 53.30s/it]"
     ]
    },
    {
     "name": "stdout",
     "output_type": "stream",
     "text": [
      "[[42  0 17  6  0  0 35]\n",
      " [ 0 98  1  0  1  0  0]\n",
      " [ 0  0  0  0  0  0  0]\n",
      " [ 0  0  1 99  0  0  0]\n",
      " [ 9  0  4  1 73 13  0]\n",
      " [ 0  0  0  0  0  0  0]\n",
      " [ 0  0  0  0  1  0 99]]\n",
      "30: loss=0.18190892384602472, (u, l) = (0.653,0.4847)\n"
     ]
    },
    {
     "data": {
      "application/vnd.jupyter.widget-view+json": {
       "model_id": "c8f9f10f3be14daab66b971f76808689",
       "version_major": 2,
       "version_minor": 0
      },
      "text/plain": [
       "HBox(children=(IntProgress(value=0, description='Iteration (labeled)', max=4, style=ProgressStyle(description_…"
      ]
     },
     "metadata": {},
     "output_type": "display_data"
    },
    {
     "data": {
      "application/vnd.jupyter.widget-view+json": {
       "model_id": "23e8f44c874c4040b96c5658ea3644cf",
       "version_major": 2,
       "version_minor": 0
      },
      "text/plain": [
       "HBox(children=(IntProgress(value=0, description='Iteration (all train)', max=52, style=ProgressStyle(descripti…"
      ]
     },
     "metadata": {},
     "output_type": "display_data"
    },
    {
     "data": {
      "application/vnd.jupyter.widget-view+json": {
       "model_id": "8702d105c22d48c0a4fa9aa44dbcdc2d",
       "version_major": 2,
       "version_minor": 0
      },
      "text/plain": [
       "HBox(children=(IntProgress(value=0, description='Evaluating', max=2, style=ProgressStyle(description_width='in…"
      ]
     },
     "metadata": {},
     "output_type": "display_data"
    },
    {
     "name": "stderr",
     "output_type": "stream",
     "text": [
      "\r",
      "Epoch:  70%|██████▉   | 32/46 [27:59<12:26, 53.31s/it]"
     ]
    },
    {
     "name": "stdout",
     "output_type": "stream",
     "text": [
      "[[39  0 16  4  0  0 41]\n",
      " [ 0 98  1  0  1  0  0]\n",
      " [ 0  0  0  0  0  0  0]\n",
      " [ 0  0  1 99  0  0  0]\n",
      " [ 5  0  5  1 75 14  0]\n",
      " [ 0  0  0  0  0  0  0]\n",
      " [ 0  0  0  0  1  0 99]]\n",
      "31: loss=0.17091390261283287, (u, l) = (0.6431,0.4857)\n"
     ]
    },
    {
     "data": {
      "application/vnd.jupyter.widget-view+json": {
       "model_id": "ca7ea7a80ff647eeafc4198a645aec39",
       "version_major": 2,
       "version_minor": 0
      },
      "text/plain": [
       "HBox(children=(IntProgress(value=0, description='Iteration (labeled)', max=4, style=ProgressStyle(description_…"
      ]
     },
     "metadata": {},
     "output_type": "display_data"
    },
    {
     "data": {
      "application/vnd.jupyter.widget-view+json": {
       "model_id": "2901ed3555604d999c1810ef0b44ade7",
       "version_major": 2,
       "version_minor": 0
      },
      "text/plain": [
       "HBox(children=(IntProgress(value=0, description='Iteration (all train)', max=52, style=ProgressStyle(descripti…"
      ]
     },
     "metadata": {},
     "output_type": "display_data"
    },
    {
     "data": {
      "application/vnd.jupyter.widget-view+json": {
       "model_id": "dd10dc0077d14a1f911b4a2e373a19d5",
       "version_major": 2,
       "version_minor": 0
      },
      "text/plain": [
       "HBox(children=(IntProgress(value=0, description='Evaluating', max=2, style=ProgressStyle(description_width='in…"
      ]
     },
     "metadata": {},
     "output_type": "display_data"
    },
    {
     "name": "stderr",
     "output_type": "stream",
     "text": [
      "\r",
      "Epoch:  72%|███████▏  | 33/46 [28:53<11:34, 53.40s/it]"
     ]
    },
    {
     "name": "stdout",
     "output_type": "stream",
     "text": [
      "[[45  0 17  5  0  0 33]\n",
      " [ 0 98  1  0  1  0  0]\n",
      " [ 0  0  0  0  0  0  0]\n",
      " [ 0  0  1 99  0  0  0]\n",
      " [ 9  0  4  1 73 13  0]\n",
      " [ 0  0  0  0  0  0  0]\n",
      " [ 0  0  0  0  1  0 99]]\n",
      "32: loss=0.16048299005398384, (u, l) = (0.6332,0.4867)\n"
     ]
    },
    {
     "data": {
      "application/vnd.jupyter.widget-view+json": {
       "model_id": "3827723749954be8a6da033ba06156bc",
       "version_major": 2,
       "version_minor": 0
      },
      "text/plain": [
       "HBox(children=(IntProgress(value=0, description='Iteration (labeled)', max=4, style=ProgressStyle(description_…"
      ]
     },
     "metadata": {},
     "output_type": "display_data"
    },
    {
     "data": {
      "application/vnd.jupyter.widget-view+json": {
       "model_id": "1c5681ee85494dac993ea51a6a59bc12",
       "version_major": 2,
       "version_minor": 0
      },
      "text/plain": [
       "HBox(children=(IntProgress(value=0, description='Iteration (all train)', max=52, style=ProgressStyle(descripti…"
      ]
     },
     "metadata": {},
     "output_type": "display_data"
    },
    {
     "data": {
      "application/vnd.jupyter.widget-view+json": {
       "model_id": "c1d3989eaf9d4e298474865acad33870",
       "version_major": 2,
       "version_minor": 0
      },
      "text/plain": [
       "HBox(children=(IntProgress(value=0, description='Evaluating', max=2, style=ProgressStyle(description_width='in…"
      ]
     },
     "metadata": {},
     "output_type": "display_data"
    },
    {
     "name": "stderr",
     "output_type": "stream",
     "text": [
      "\r",
      "Epoch:  74%|███████▍  | 34/46 [29:47<10:44, 53.72s/it]"
     ]
    },
    {
     "name": "stdout",
     "output_type": "stream",
     "text": [
      "[[40  0 18  6  0  0 36]\n",
      " [ 0 98  1  0  1  0  0]\n",
      " [ 0  0  0  0  0  0  0]\n",
      " [ 0  0  1 99  0  0  0]\n",
      " [ 9  0  4  1 73 13  0]\n",
      " [ 0  0  0  0  0  0  0]\n",
      " [ 0  0  0  0  1  0 99]]\n",
      "33: loss=0.14960603415966034, (u, l) = (0.6233,0.4877)\n"
     ]
    },
    {
     "data": {
      "application/vnd.jupyter.widget-view+json": {
       "model_id": "3e08dd466e034dd9974473f2a1cc7d8f",
       "version_major": 2,
       "version_minor": 0
      },
      "text/plain": [
       "HBox(children=(IntProgress(value=0, description='Iteration (labeled)', max=4, style=ProgressStyle(description_…"
      ]
     },
     "metadata": {},
     "output_type": "display_data"
    },
    {
     "data": {
      "application/vnd.jupyter.widget-view+json": {
       "model_id": "0be58fca6430446f9b19f18beed03598",
       "version_major": 2,
       "version_minor": 0
      },
      "text/plain": [
       "HBox(children=(IntProgress(value=0, description='Iteration (all train)', max=52, style=ProgressStyle(descripti…"
      ]
     },
     "metadata": {},
     "output_type": "display_data"
    },
    {
     "data": {
      "application/vnd.jupyter.widget-view+json": {
       "model_id": "f134d7e99dd04fc9907235378d18c105",
       "version_major": 2,
       "version_minor": 0
      },
      "text/plain": [
       "HBox(children=(IntProgress(value=0, description='Evaluating', max=2, style=ProgressStyle(description_width='in…"
      ]
     },
     "metadata": {},
     "output_type": "display_data"
    },
    {
     "name": "stderr",
     "output_type": "stream",
     "text": [
      "\r",
      "Epoch:  76%|███████▌  | 35/46 [30:41<09:50, 53.67s/it]"
     ]
    },
    {
     "name": "stdout",
     "output_type": "stream",
     "text": [
      "[[40  0 20  6  0  0 34]\n",
      " [ 0 98  1  0  1  0  0]\n",
      " [ 0  0  0  0  0  0  0]\n",
      " [ 0  0  1 99  0  0  0]\n",
      " [ 9  0  4  1 74 12  0]\n",
      " [ 0  0  0  0  0  0  0]\n",
      " [ 0  0  0  0  1  0 99]]\n",
      "34: loss=0.1382812846165437, (u, l) = (0.6134,0.4887)\n"
     ]
    },
    {
     "data": {
      "application/vnd.jupyter.widget-view+json": {
       "model_id": "084621f3d6cd4fb0b0c0ff18ac10cdb8",
       "version_major": 2,
       "version_minor": 0
      },
      "text/plain": [
       "HBox(children=(IntProgress(value=0, description='Iteration (labeled)', max=4, style=ProgressStyle(description_…"
      ]
     },
     "metadata": {},
     "output_type": "display_data"
    },
    {
     "data": {
      "application/vnd.jupyter.widget-view+json": {
       "model_id": "31d7192f1dc34b12918fc25a1f2b03b8",
       "version_major": 2,
       "version_minor": 0
      },
      "text/plain": [
       "HBox(children=(IntProgress(value=0, description='Iteration (all train)', max=52, style=ProgressStyle(descripti…"
      ]
     },
     "metadata": {},
     "output_type": "display_data"
    },
    {
     "data": {
      "application/vnd.jupyter.widget-view+json": {
       "model_id": "c51143ef15e9411cb08287b19c1bbefd",
       "version_major": 2,
       "version_minor": 0
      },
      "text/plain": [
       "HBox(children=(IntProgress(value=0, description='Evaluating', max=2, style=ProgressStyle(description_width='in…"
      ]
     },
     "metadata": {},
     "output_type": "display_data"
    },
    {
     "name": "stderr",
     "output_type": "stream",
     "text": [
      "\r",
      "Epoch:  78%|███████▊  | 36/46 [31:35<08:57, 53.75s/it]"
     ]
    },
    {
     "name": "stdout",
     "output_type": "stream",
     "text": [
      "[[39  0 20  6  0  0 35]\n",
      " [ 0 98  1  0  1  0  0]\n",
      " [ 0  0  0  0  0  0  0]\n",
      " [ 0  0  1 99  0  0  0]\n",
      " [ 7  0  5  1 73 14  0]\n",
      " [ 0  0  0  0  0  0  0]\n",
      " [ 0  0  0  0  1  0 99]]\n",
      "35: loss=0.12749346632223862, (u, l) = (0.6035,0.4897)\n"
     ]
    },
    {
     "data": {
      "application/vnd.jupyter.widget-view+json": {
       "model_id": "64a4a7f79664468aa09de7519d315635",
       "version_major": 2,
       "version_minor": 0
      },
      "text/plain": [
       "HBox(children=(IntProgress(value=0, description='Iteration (labeled)', max=4, style=ProgressStyle(description_…"
      ]
     },
     "metadata": {},
     "output_type": "display_data"
    },
    {
     "data": {
      "application/vnd.jupyter.widget-view+json": {
       "model_id": "2481c34c15ca460b926e72f672e96f3c",
       "version_major": 2,
       "version_minor": 0
      },
      "text/plain": [
       "HBox(children=(IntProgress(value=0, description='Iteration (all train)', max=52, style=ProgressStyle(descripti…"
      ]
     },
     "metadata": {},
     "output_type": "display_data"
    },
    {
     "data": {
      "application/vnd.jupyter.widget-view+json": {
       "model_id": "55523c6d2a57433db1e4362ef6005c24",
       "version_major": 2,
       "version_minor": 0
      },
      "text/plain": [
       "HBox(children=(IntProgress(value=0, description='Evaluating', max=2, style=ProgressStyle(description_width='in…"
      ]
     },
     "metadata": {},
     "output_type": "display_data"
    },
    {
     "name": "stderr",
     "output_type": "stream",
     "text": [
      "\r",
      "Epoch:  80%|████████  | 37/46 [32:29<08:03, 53.71s/it]"
     ]
    },
    {
     "name": "stdout",
     "output_type": "stream",
     "text": [
      "[[43  0 18  6  0  0 33]\n",
      " [ 0 98  1  0  1  0  0]\n",
      " [ 0  0  0  0  0  0  0]\n",
      " [ 0  0  1 99  0  0  0]\n",
      " [ 8  0  4  1 75 12  0]\n",
      " [ 0  0  0  0  0  0  0]\n",
      " [ 0  0  0  0  1  0 99]]\n",
      "36: loss=0.11622250080108643, (u, l) = (0.5936,0.4906)\n"
     ]
    },
    {
     "data": {
      "application/vnd.jupyter.widget-view+json": {
       "model_id": "076c9845640f445288f9bbd7a202735b",
       "version_major": 2,
       "version_minor": 0
      },
      "text/plain": [
       "HBox(children=(IntProgress(value=0, description='Iteration (labeled)', max=4, style=ProgressStyle(description_…"
      ]
     },
     "metadata": {},
     "output_type": "display_data"
    },
    {
     "data": {
      "application/vnd.jupyter.widget-view+json": {
       "model_id": "986ba0ab753040e6aac4c27eccf8a9be",
       "version_major": 2,
       "version_minor": 0
      },
      "text/plain": [
       "HBox(children=(IntProgress(value=0, description='Iteration (all train)', max=52, style=ProgressStyle(descripti…"
      ]
     },
     "metadata": {},
     "output_type": "display_data"
    },
    {
     "data": {
      "application/vnd.jupyter.widget-view+json": {
       "model_id": "d3fca265e7c5406291215e7c2b613b65",
       "version_major": 2,
       "version_minor": 0
      },
      "text/plain": [
       "HBox(children=(IntProgress(value=0, description='Evaluating', max=2, style=ProgressStyle(description_width='in…"
      ]
     },
     "metadata": {},
     "output_type": "display_data"
    },
    {
     "name": "stderr",
     "output_type": "stream",
     "text": [
      "\r",
      "Epoch:  83%|████████▎ | 38/46 [33:22<07:08, 53.60s/it]"
     ]
    },
    {
     "name": "stdout",
     "output_type": "stream",
     "text": [
      "[[43  0 18  6  0  0 33]\n",
      " [ 0 98  1  0  1  0  0]\n",
      " [ 0  0  0  0  0  0  0]\n",
      " [ 0  0  1 99  0  0  0]\n",
      " [ 9  0  4  1 72 14  0]\n",
      " [ 0  0  0  0  0  0  0]\n",
      " [ 0  0  0  0  1  0 99]]\n",
      "37: loss=0.10577617127161759, (u, l) = (0.5837,0.4916)\n"
     ]
    },
    {
     "data": {
      "application/vnd.jupyter.widget-view+json": {
       "model_id": "47ae23003c954c979a2c8f3d36cdf170",
       "version_major": 2,
       "version_minor": 0
      },
      "text/plain": [
       "HBox(children=(IntProgress(value=0, description='Iteration (labeled)', max=4, style=ProgressStyle(description_…"
      ]
     },
     "metadata": {},
     "output_type": "display_data"
    },
    {
     "data": {
      "application/vnd.jupyter.widget-view+json": {
       "model_id": "97814c2303a744b0b2a789c788eacd40",
       "version_major": 2,
       "version_minor": 0
      },
      "text/plain": [
       "HBox(children=(IntProgress(value=0, description='Iteration (all train)', max=52, style=ProgressStyle(descripti…"
      ]
     },
     "metadata": {},
     "output_type": "display_data"
    },
    {
     "data": {
      "application/vnd.jupyter.widget-view+json": {
       "model_id": "40fe8a19323e46e2bd5e7fd4965e9b1c",
       "version_major": 2,
       "version_minor": 0
      },
      "text/plain": [
       "HBox(children=(IntProgress(value=0, description='Evaluating', max=2, style=ProgressStyle(description_width='in…"
      ]
     },
     "metadata": {},
     "output_type": "display_data"
    },
    {
     "name": "stderr",
     "output_type": "stream",
     "text": [
      "\r",
      "Epoch:  85%|████████▍ | 39/46 [34:16<06:16, 53.72s/it]"
     ]
    },
    {
     "name": "stdout",
     "output_type": "stream",
     "text": [
      "[[45  0 18  6  0  0 31]\n",
      " [ 0 98  1  0  1  0  0]\n",
      " [ 0  0  0  0  0  0  0]\n",
      " [ 0  0  1 99  0  0  0]\n",
      " [ 9  0  4  1 72 14  0]\n",
      " [ 0  0  0  0  0  0  0]\n",
      " [ 0  0  0  0  1  0 99]]\n",
      "38: loss=0.09502907326588264, (u, l) = (0.5738,0.4926)\n"
     ]
    },
    {
     "data": {
      "application/vnd.jupyter.widget-view+json": {
       "model_id": "c2f7639e1792426486794e0820374e1e",
       "version_major": 2,
       "version_minor": 0
      },
      "text/plain": [
       "HBox(children=(IntProgress(value=0, description='Iteration (labeled)', max=4, style=ProgressStyle(description_…"
      ]
     },
     "metadata": {},
     "output_type": "display_data"
    },
    {
     "data": {
      "application/vnd.jupyter.widget-view+json": {
       "model_id": "e4b12b3e7b3b4dcb9ddbeb9ed9b98fae",
       "version_major": 2,
       "version_minor": 0
      },
      "text/plain": [
       "HBox(children=(IntProgress(value=0, description='Iteration (all train)', max=52, style=ProgressStyle(descripti…"
      ]
     },
     "metadata": {},
     "output_type": "display_data"
    },
    {
     "data": {
      "application/vnd.jupyter.widget-view+json": {
       "model_id": "24dc0cae76d4408fb6dc16904273829a",
       "version_major": 2,
       "version_minor": 0
      },
      "text/plain": [
       "HBox(children=(IntProgress(value=0, description='Evaluating', max=2, style=ProgressStyle(description_width='in…"
      ]
     },
     "metadata": {},
     "output_type": "display_data"
    },
    {
     "name": "stderr",
     "output_type": "stream",
     "text": [
      "\r",
      "Epoch:  87%|████████▋ | 40/46 [35:09<05:21, 53.66s/it]"
     ]
    },
    {
     "name": "stdout",
     "output_type": "stream",
     "text": [
      "[[44  0 19  6  0  0 31]\n",
      " [ 0 98  1  0  1  0  0]\n",
      " [ 0  0  0  0  0  0  0]\n",
      " [ 0  0  1 99  0  0  0]\n",
      " [ 9  0  4  1 72 14  0]\n",
      " [ 0  0  0  0  0  0  0]\n",
      " [ 0  0  0  0  1  0 99]]\n",
      "39: loss=0.0841589283484679, (u, l) = (0.5639,0.4936)\n"
     ]
    },
    {
     "data": {
      "application/vnd.jupyter.widget-view+json": {
       "model_id": "155bbd265ac949ebafbad009eeef5dd7",
       "version_major": 2,
       "version_minor": 0
      },
      "text/plain": [
       "HBox(children=(IntProgress(value=0, description='Iteration (labeled)', max=4, style=ProgressStyle(description_…"
      ]
     },
     "metadata": {},
     "output_type": "display_data"
    },
    {
     "data": {
      "application/vnd.jupyter.widget-view+json": {
       "model_id": "f3ed9043002e419dbad1272f6d3d3b4c",
       "version_major": 2,
       "version_minor": 0
      },
      "text/plain": [
       "HBox(children=(IntProgress(value=0, description='Iteration (all train)', max=52, style=ProgressStyle(descripti…"
      ]
     },
     "metadata": {},
     "output_type": "display_data"
    },
    {
     "data": {
      "application/vnd.jupyter.widget-view+json": {
       "model_id": "2a9ed01826b742bebd78ec7dcff95086",
       "version_major": 2,
       "version_minor": 0
      },
      "text/plain": [
       "HBox(children=(IntProgress(value=0, description='Evaluating', max=2, style=ProgressStyle(description_width='in…"
      ]
     },
     "metadata": {},
     "output_type": "display_data"
    },
    {
     "name": "stderr",
     "output_type": "stream",
     "text": [
      "\r",
      "Epoch:  89%|████████▉ | 41/46 [36:03<04:28, 53.75s/it]"
     ]
    },
    {
     "name": "stdout",
     "output_type": "stream",
     "text": [
      "[[44  0 18  6  0  0 32]\n",
      " [ 0 98  1  0  1  0  0]\n",
      " [ 0  0  0  0  0  0  0]\n",
      " [ 0  0  1 99  0  0  0]\n",
      " [ 9  0  4  1 72 14  0]\n",
      " [ 0  0  0  0  0  0  0]\n",
      " [ 0  0  0  0  1  0 99]]\n",
      "40: loss=0.07356591751942268, (u, l) = (0.554,0.4946)\n"
     ]
    },
    {
     "data": {
      "application/vnd.jupyter.widget-view+json": {
       "model_id": "a742a1a5455e4c868f24231f22ebf02a",
       "version_major": 2,
       "version_minor": 0
      },
      "text/plain": [
       "HBox(children=(IntProgress(value=0, description='Iteration (labeled)', max=4, style=ProgressStyle(description_…"
      ]
     },
     "metadata": {},
     "output_type": "display_data"
    },
    {
     "data": {
      "application/vnd.jupyter.widget-view+json": {
       "model_id": "4132e63811de4ced9778b776b8472078",
       "version_major": 2,
       "version_minor": 0
      },
      "text/plain": [
       "HBox(children=(IntProgress(value=0, description='Iteration (all train)', max=52, style=ProgressStyle(descripti…"
      ]
     },
     "metadata": {},
     "output_type": "display_data"
    },
    {
     "data": {
      "application/vnd.jupyter.widget-view+json": {
       "model_id": "abd1695365fd444887144a24550879f7",
       "version_major": 2,
       "version_minor": 0
      },
      "text/plain": [
       "HBox(children=(IntProgress(value=0, description='Evaluating', max=2, style=ProgressStyle(description_width='in…"
      ]
     },
     "metadata": {},
     "output_type": "display_data"
    },
    {
     "name": "stderr",
     "output_type": "stream",
     "text": [
      "\r",
      "Epoch:  91%|█████████▏| 42/46 [36:57<03:35, 53.80s/it]"
     ]
    },
    {
     "name": "stdout",
     "output_type": "stream",
     "text": [
      "[[46  0 18  4  0  0 32]\n",
      " [ 0 98  1  0  1  0  0]\n",
      " [ 0  0  0  0  0  0  0]\n",
      " [ 0  0  1 99  0  0  0]\n",
      " [ 9  0  4  1 72 14  0]\n",
      " [ 0  0  0  0  0  0  0]\n",
      " [ 0  0  0  0  1  0 99]]\n",
      "41: loss=0.0627681899529237, (u, l) = (0.5441,0.4956)\n"
     ]
    },
    {
     "data": {
      "application/vnd.jupyter.widget-view+json": {
       "model_id": "a24b5ee1119541b48562d3b3d21a6b49",
       "version_major": 2,
       "version_minor": 0
      },
      "text/plain": [
       "HBox(children=(IntProgress(value=0, description='Iteration (labeled)', max=4, style=ProgressStyle(description_…"
      ]
     },
     "metadata": {},
     "output_type": "display_data"
    },
    {
     "data": {
      "application/vnd.jupyter.widget-view+json": {
       "model_id": "ec61cbfba6634367819e9517c41707c1",
       "version_major": 2,
       "version_minor": 0
      },
      "text/plain": [
       "HBox(children=(IntProgress(value=0, description='Iteration (all train)', max=52, style=ProgressStyle(descripti…"
      ]
     },
     "metadata": {},
     "output_type": "display_data"
    },
    {
     "data": {
      "application/vnd.jupyter.widget-view+json": {
       "model_id": "81fe166c1fde454b886570e587a98de7",
       "version_major": 2,
       "version_minor": 0
      },
      "text/plain": [
       "HBox(children=(IntProgress(value=0, description='Evaluating', max=2, style=ProgressStyle(description_width='in…"
      ]
     },
     "metadata": {},
     "output_type": "display_data"
    },
    {
     "name": "stderr",
     "output_type": "stream",
     "text": [
      "\r",
      "Epoch:  93%|█████████▎| 43/46 [37:51<02:41, 53.88s/it]"
     ]
    },
    {
     "name": "stdout",
     "output_type": "stream",
     "text": [
      "[[47  0 18  4  0  0 31]\n",
      " [ 0 98  1  0  1  0  0]\n",
      " [ 0  0  0  0  0  0  0]\n",
      " [ 0  0  1 99  0  0  0]\n",
      " [ 9  0  4  1 72 14  0]\n",
      " [ 0  0  0  0  0  0  0]\n",
      " [ 0  0  0  0  1  0 99]]\n",
      "42: loss=0.05222095663730915, (u, l) = (0.5342,0.4966)\n"
     ]
    },
    {
     "data": {
      "application/vnd.jupyter.widget-view+json": {
       "model_id": "2dce0d1c17ae4898af5796336d85b900",
       "version_major": 2,
       "version_minor": 0
      },
      "text/plain": [
       "HBox(children=(IntProgress(value=0, description='Iteration (labeled)', max=4, style=ProgressStyle(description_…"
      ]
     },
     "metadata": {},
     "output_type": "display_data"
    },
    {
     "data": {
      "application/vnd.jupyter.widget-view+json": {
       "model_id": "5ac25ed2c4314c37a5a528f9b6ccf1e0",
       "version_major": 2,
       "version_minor": 0
      },
      "text/plain": [
       "HBox(children=(IntProgress(value=0, description='Iteration (all train)', max=52, style=ProgressStyle(descripti…"
      ]
     },
     "metadata": {},
     "output_type": "display_data"
    },
    {
     "data": {
      "application/vnd.jupyter.widget-view+json": {
       "model_id": "b1cfdc9d97c140efb195ab6d858b104b",
       "version_major": 2,
       "version_minor": 0
      },
      "text/plain": [
       "HBox(children=(IntProgress(value=0, description='Evaluating', max=2, style=ProgressStyle(description_width='in…"
      ]
     },
     "metadata": {},
     "output_type": "display_data"
    },
    {
     "name": "stderr",
     "output_type": "stream",
     "text": [
      "\r",
      "Epoch:  96%|█████████▌| 44/46 [38:45<01:47, 53.86s/it]"
     ]
    },
    {
     "name": "stdout",
     "output_type": "stream",
     "text": [
      "[[48  0 18  4  0  0 30]\n",
      " [ 0 98  1  0  1  0  0]\n",
      " [ 0  0  0  0  0  0  0]\n",
      " [ 0  0  1 99  0  0  0]\n",
      " [ 9  0  4  1 72 14  0]\n",
      " [ 0  0  0  0  0  0  0]\n",
      " [ 0  0  0  0  1  0 99]]\n",
      "43: loss=0.04116907715797424, (u, l) = (0.5243,0.4976)\n"
     ]
    },
    {
     "data": {
      "application/vnd.jupyter.widget-view+json": {
       "model_id": "42ca72dc41dc49de9bd706dcd1ca202a",
       "version_major": 2,
       "version_minor": 0
      },
      "text/plain": [
       "HBox(children=(IntProgress(value=0, description='Iteration (labeled)', max=4, style=ProgressStyle(description_…"
      ]
     },
     "metadata": {},
     "output_type": "display_data"
    },
    {
     "data": {
      "application/vnd.jupyter.widget-view+json": {
       "model_id": "fb2952264e3b4641906f17ea33c8aa6a",
       "version_major": 2,
       "version_minor": 0
      },
      "text/plain": [
       "HBox(children=(IntProgress(value=0, description='Iteration (all train)', max=52, style=ProgressStyle(descripti…"
      ]
     },
     "metadata": {},
     "output_type": "display_data"
    },
    {
     "data": {
      "application/vnd.jupyter.widget-view+json": {
       "model_id": "01d7d8559f8c45a8b52a59e9a71fba2e",
       "version_major": 2,
       "version_minor": 0
      },
      "text/plain": [
       "HBox(children=(IntProgress(value=0, description='Evaluating', max=2, style=ProgressStyle(description_width='in…"
      ]
     },
     "metadata": {},
     "output_type": "display_data"
    },
    {
     "name": "stderr",
     "output_type": "stream",
     "text": [
      "\r",
      "Epoch:  98%|█████████▊| 45/46 [39:39<00:53, 53.93s/it]"
     ]
    },
    {
     "name": "stdout",
     "output_type": "stream",
     "text": [
      "[[49  0 17  4  0  0 30]\n",
      " [ 0 98  1  0  1  0  0]\n",
      " [ 0  0  0  0  0  0  0]\n",
      " [ 0  0  1 99  0  0  0]\n",
      " [10  0  4  1 74 11  0]\n",
      " [ 0  0  0  0  0  0  0]\n",
      " [ 0  0  0  0  1  0 99]]\n",
      "44: loss=0.030981563604795016, (u, l) = (0.5144,0.4986)\n"
     ]
    },
    {
     "data": {
      "application/vnd.jupyter.widget-view+json": {
       "model_id": "0bc2ccc5c7cd4b518f7cf347540faab6",
       "version_major": 2,
       "version_minor": 0
      },
      "text/plain": [
       "HBox(children=(IntProgress(value=0, description='Iteration (labeled)', max=4, style=ProgressStyle(description_…"
      ]
     },
     "metadata": {},
     "output_type": "display_data"
    },
    {
     "data": {
      "application/vnd.jupyter.widget-view+json": {
       "model_id": "538cf728e18c42b1b8c2ba00ea711b7c",
       "version_major": 2,
       "version_minor": 0
      },
      "text/plain": [
       "HBox(children=(IntProgress(value=0, description='Iteration (all train)', max=52, style=ProgressStyle(descripti…"
      ]
     },
     "metadata": {},
     "output_type": "display_data"
    },
    {
     "data": {
      "application/vnd.jupyter.widget-view+json": {
       "model_id": "7434525602f84906815ba95e7e0fb0d9",
       "version_major": 2,
       "version_minor": 0
      },
      "text/plain": [
       "HBox(children=(IntProgress(value=0, description='Evaluating', max=2, style=ProgressStyle(description_width='in…"
      ]
     },
     "metadata": {},
     "output_type": "display_data"
    },
    {
     "name": "stdout",
     "output_type": "stream",
     "text": [
      "[[74  4 16  2  0  0  4]\n",
      " [ 0 99  1  0  0  0  0]\n",
      " [ 0  0  0  0  0  0  0]\n",
      " [ 0  0  1 99  0  0  0]\n",
      " [24  1  4  1 67  3  0]\n",
      " [ 0  0  0  0  0  0  0]\n",
      " [ 0  0  0  0  1  0 99]]\n",
      "45: loss=0.02850024516765888, (u, l) = (0.5045,0.4996)\n",
      "{'ACC': 87.6, 'ARI': 79.27, 'NMI': 80.42, 'u': 0.5044999999999996, 'l': 0.49955000000000005} ['SearchCreativeWork' 'BookRestaurant']\n",
      "Confusion matrix, without normalization\n"
     ]
    },
    {
     "data": {
      "image/png": "[encoded data removed]",
      "text/plain": [
       "<Figure size 576x576 with 2 Axes>"
      ]
     },
     "metadata": {
      "needs_background": "light"
     },
     "output_type": "display_data"
    }
   ],
   "source": [
    "## Evaluate for each epcoh\n",
    "eval_examples = processor.get_dev_examples(data_dir)\n",
    "eval_labeled_examples = []\n",
    "for example in eval_examples:\n",
    "    if example.label not in label_unknown:\n",
    "        eval_labeled_examples.append(example)\n",
    "        \n",
    "eval_features = convert_examples_to_features(eval_labeled_examples, label_list, max_seq_length, tokenizer)\n",
    "logger.info(\"\")\n",
    "logger.info(\"***** Running evaluation *****\")\n",
    "logger.info(\"  Num examples = %d\", len(eval_features))\n",
    "logger.info(\"  Batch size = %d\", eval_batch_size)\n",
    "eval_input_ids = torch.tensor([f.input_ids for f in eval_features], dtype=torch.long)\n",
    "eval_input_mask = torch.tensor([f.input_mask for f in eval_features], dtype=torch.long)\n",
    "eval_segment_ids = torch.tensor([f.segment_ids for f in eval_features], dtype=torch.long)\n",
    "eval_label_ids = torch.tensor([f.label_id for f in eval_features], dtype=torch.long)\n",
    "eval_data = TensorDataset(eval_input_ids, eval_input_mask, eval_segment_ids, eval_label_ids)\n",
    "# Run prediction for full data\n",
    "eval_sampler = SequentialSampler(eval_data)\n",
    "eval_dataloader = DataLoader(eval_data, sampler=eval_sampler, batch_size=eval_batch_size)\n",
    "\n",
    "\n",
    "global_step = 0\n",
    "u = 0.95\n",
    "l = 0.455 \n",
    "eta = 0\n",
    "\n",
    "y_pred_last = np.zeros_like(eval_label_ids)\n",
    "for _ in trange(int(num_train_epochs), desc=\"Epoch\"):\n",
    "    model.train()\n",
    "\n",
    "    tr_loss = 0\n",
    "    nb_tr_examples, nb_tr_steps = 0, 0\n",
    "    for step, batch in enumerate(tqdm(train_labeled_dataloader, desc=\"Iteration (labeled)\")):\n",
    "        batch = tuple(t.to(device) for t in batch)\n",
    "        input_ids, input_mask, segment_ids, label_ids = batch\n",
    "        loss = model(input_ids, segment_ids, input_mask, u, l, 'train', label_ids)\n",
    "        loss.backward()\n",
    "\n",
    "        tr_loss += loss.item()\n",
    "        nb_tr_examples += input_ids.size(0)\n",
    "        nb_tr_steps += 1\n",
    "\n",
    "        optimizer.step()\n",
    "        optimizer.zero_grad()\n",
    "        global_step += 1\n",
    "    train_labeled_loss = tr_loss / nb_tr_steps\n",
    "    \n",
    "    \n",
    "    tr_loss = 0\n",
    "    nb_tr_examples, nb_tr_steps = 0, 0\n",
    "    for step, batch in enumerate(tqdm(train_semi_dataloader, desc=\"Iteration (all train)\")):\n",
    "        batch = tuple(t.to(device) for t in batch)\n",
    "        input_ids, input_mask, segment_ids, label_ids = batch\n",
    "        loss = model(input_ids, segment_ids, input_mask, u, l, 'train', label_ids, True)\n",
    "        loss.backward()\n",
    "\n",
    "        tr_loss += loss.item()\n",
    "        nb_tr_examples += input_ids.size(0)\n",
    "        nb_tr_steps += 1\n",
    "\n",
    "        optimizer.step()\n",
    "        optimizer.zero_grad()\n",
    "        global_step += 1\n",
    "    train_loss = tr_loss / nb_tr_steps\n",
    "    \n",
    "    \n",
    "    \n",
    "    model.eval()\n",
    "    eval_loss, eval_accuracy = 0, 0\n",
    "    nb_eval_steps, nb_eval_examples = 0, 0\n",
    "\n",
    "    y_preds = []\n",
    "    for batch in tqdm(eval_dataloader, desc=\"Evaluating\"):\n",
    "        batch = tuple(t.to(device) for t in batch)\n",
    "        input_ids, input_mask, segment_ids, label_ids = batch\n",
    "\n",
    "        with torch.no_grad():\n",
    "            tmp_eval_loss = model(input_ids, segment_ids, input_mask, u, l, 'train', label_ids)\n",
    "            logits = model(input_ids, segment_ids, input_mask)\n",
    "\n",
    "        logits = logits.detach().cpu().numpy()\n",
    "        label_ids = label_ids.to('cpu').numpy()\n",
    "\n",
    "        eval_loss += tmp_eval_loss.mean().item()\n",
    "        y_preds.append(np.argmax(logits, 1))\n",
    "        nb_eval_steps += 1\n",
    "\n",
    "    eval_loss = eval_loss / nb_eval_steps\n",
    "    y_pred = np.hstack(y_preds)\n",
    "    y_eval = eval_label_ids.numpy()\n",
    "\n",
    "    results = clustering_score(y_eval, y_pred)\n",
    "    ## Confusion matrix(reorder y_pred for alignment)\n",
    "    ind, w = hungray_aligment(y_eval, y_pred)\n",
    "    d_ind = {i[0]: i[1] for i in ind}\n",
    "    y_pred_ = pd.Series(y_pred).map(d_ind)\n",
    "    cm = confusion_matrix(y_eval, y_pred_)\n",
    "\n",
    "    delta_label = np.sum(y_pred != y_pred_last).astype(np.float32) / y_pred.shape[0]\n",
    "    y_pred_last = np.copy(y_pred)\n",
    "\n",
    "    results['u'] = u\n",
    "    results['l'] = l\n",
    "    loss = tr_loss\n",
    "    result = {'eval_loss': eval_loss,\n",
    "              'results': results,\n",
    "              'global_step': global_step,\n",
    "              'train_labeled_loss': train_labeled_loss,\n",
    "              'train_loss': train_loss,\n",
    "              'delta_label': delta_label}\n",
    "    print(cm)\n",
    "    output_eval_file = os.path.join(output_dir, \"eval_results.txt\")\n",
    "    with open(output_eval_file, \"w\") as writer:\n",
    "        logger.info(\"***** Eval results *****\")\n",
    "        for key in sorted(result.keys()):\n",
    "            logger.info(\"  %s = %s\", key, str(result[key]))\n",
    "            writer.write(\"%s = %s\\n\" % (key, str(result[key])))\n",
    "    print(f\"{_}: loss={train_loss}, (u, l) = ({round(u, 4)},{round(l, 4)})\")\n",
    "    eta += 1.1 * 0.009\n",
    "    u = 0.95 - eta\n",
    "    l = 0.455 + eta*0.1\n",
    "    if u < l:\n",
    "        break\n",
    "results_all.update({'CDAC': results})\n",
    "print(results, label_unknown)\n",
    "\n",
    "plot_confusion_matrix(cm, label_list, normalize=False, figsize=(8, 8),\n",
    "                      title='Confusion matrix, accuracy=' + str(results['ACC']))\n",
    "# Save a trained model and the associated configuration\n",
    "model_to_save = model.module if hasattr(model, 'module') else model  # Only save the model it-self\n",
    "output_model_file = os.path.join(output_dir, WEIGHTS_NAME)\n",
    "torch.save(model_to_save.state_dict(), output_model_file)\n",
    "output_config_file = os.path.join(output_dir, CONFIG_NAME)\n",
    "with open(output_config_file, 'w') as f:\n",
    "    f.write(model_to_save.config.to_json_string())"
   ]
  },
  {
   "cell_type": "code",
   "execution_count": 3,
   "metadata": {},
   "outputs": [
    {
     "data": {
      "application/vnd.jupyter.widget-view+json": {
       "model_id": "ec8598cf9e3f4556af56813969c02d47",
       "version_major": 2,
       "version_minor": 0
      },
      "text/plain": [
       "HBox(children=(IntProgress(value=0, description='Extracting representation I', max=52, style=ProgressStyle(des…"
      ]
     },
     "metadata": {},
     "output_type": "display_data"
    },
    {
     "data": {
      "application/vnd.jupyter.widget-view+json": {
       "model_id": "1fc627fd2e66440ba44e0c1eb08872c1",
       "version_major": 2,
       "version_minor": 0
      },
      "text/plain": [
       "HBox(children=(IntProgress(value=0, description='Extracting probabilities Q', max=3, style=ProgressStyle(descr…"
      ]
     },
     "metadata": {},
     "output_type": "display_data"
    },
    {
     "name": "stdout",
     "output_type": "stream",
     "text": [
      "{'ACC': 92.43, 'ARI': 83.4, 'NMI': 86.52}\n"
     ]
    }
   ],
   "source": [
    "test_examples = processor.get_test_examples(data_dir)\n",
    "test_features = convert_examples_to_features(test_examples, label_list, max_seq_length, tokenizer)\n",
    "logger.info(\"\")\n",
    "logger.info(\"***** Running testuation *****\")\n",
    "logger.info(\"  Num examples = %d\", len(test_examples))\n",
    "logger.info(\"  Batch size = %d\", eval_batch_size)\n",
    "test_input_ids = torch.tensor([f.input_ids for f in test_features], dtype=torch.long)\n",
    "test_input_mask = torch.tensor([f.input_mask for f in test_features], dtype=torch.long)\n",
    "test_segment_ids = torch.tensor([f.segment_ids for f in test_features], dtype=torch.long)\n",
    "test_label_ids = torch.tensor([f.label_id for f in test_features], dtype=torch.long)\n",
    "test_data = TensorDataset(test_input_ids, test_input_mask, test_segment_ids, test_label_ids)\n",
    "test_sampler = SequentialSampler(test_data)\n",
    "test_dataloader = DataLoader(test_data, sampler=test_sampler, batch_size=eval_batch_size)\n",
    "\n",
    "k = num_labels*fraction\n",
    "y_true = train_label_ids\n",
    "num_train_epochs = 100\n",
    "learning_rate = 5e-5\n",
    "\n",
    "# Initialize cluster centroids U with representation I\n",
    "embs_train = []\n",
    "for batch in tqdm(train_dataloader, desc=\"Extracting representation I\"):\n",
    "    batch = tuple(t.to(device) for t in batch)\n",
    "    input_ids, input_mask, segment_ids, label_ids = batch\n",
    "    \n",
    "    with torch.no_grad():\n",
    "        logits, q = model(input_ids, segment_ids, input_mask, mode='finetune')\n",
    "    logits = logits.detach().cpu().numpy()\n",
    "    label_ids = label_ids.to('cpu').numpy()\n",
    "    embs_train.append(logits)\n",
    "emb_train = np.vstack(embs_train)\n",
    "\n",
    "from sklearn.cluster import KMeans\n",
    "km = KMeans(n_clusters=k, n_jobs=-1, random_state=seed)\n",
    "km.fit(emb_train)\n",
    "y_pred_last = np.copy(km.cluster_centers_)\n",
    "model.cluster_layer.data = torch.tensor(km.cluster_centers_).to(device)\n",
    "\n",
    "model.eval()\n",
    "\n",
    "# Extracting probabilities Q\n",
    "embs_test = []\n",
    "qs = []\n",
    "for batch in tqdm(test_dataloader, desc=\"Extracting probabilities Q\"):\n",
    "    batch = tuple(t.to(device) for t in batch)\n",
    "    input_ids, input_mask, segment_ids, label_ids = batch\n",
    "    with torch.no_grad():\n",
    "        logits, q = model(input_ids, segment_ids, input_mask, mode='finetune')\n",
    "    q = q.detach().cpu().numpy()\n",
    "    logits = logits.detach().cpu().numpy()\n",
    "    qs.append(q)\n",
    "    embs_test.append(logits)\n",
    "\n",
    "q_all = np.vstack(qs)\n",
    "y_pred = q_all.argmax(1)\n",
    "results = clustering_score(test_label_ids, y_pred)\n",
    "results_all.update({'CDAC-KM': results})\n",
    "print(results)"
   ]
  },
  {
   "cell_type": "code",
   "execution_count": 4,
   "metadata": {},
   "outputs": [
    {
     "name": "stderr",
     "output_type": "stream",
     "text": [
      "/home/tony/anaconda3/envs/BERT/lib/python3.6/site-packages/ipykernel_launcher.py:45: DeprecationWarning: elementwise != comparison failed; this will raise an error in the future.\n"
     ]
    },
    {
     "name": "stdout",
     "output_type": "stream",
     "text": [
      "0 {'ACC': 93.55, 'ARI': 85.48, 'NMI': 87.3, 'kl_loss': 0.0392, 'delta_label': 0.0001}\n",
      "1 {'ACC': 95.68, 'ARI': 90.64, 'NMI': 90.91, 'kl_loss': 0.0377, 'delta_label': 0.0313}\n",
      "2 {'ACC': 96.15, 'ARI': 91.69, 'NMI': 91.76, 'kl_loss': 0.0386, 'delta_label': 0.0099}\n",
      "3 {'ACC': 96.29, 'ARI': 92.04, 'NMI': 92.12, 'kl_loss': 0.0393, 'delta_label': 0.0062}\n",
      "4 {'ACC': 96.33, 'ARI': 92.15, 'NMI': 92.3, 'kl_loss': 0.0398, 'delta_label': 0.0035}\n",
      "5 {'ACC': 96.33, 'ARI': 92.17, 'NMI': 92.39, 'kl_loss': 0.0399, 'delta_label': 0.0034}\n",
      "6 {'ACC': 96.32, 'ARI': 92.14, 'NMI': 92.38, 'kl_loss': 0.0397, 'delta_label': 0.0033}\n",
      "7 {'ACC': 96.26, 'ARI': 92.05, 'NMI': 92.35, 'kl_loss': 0.04, 'delta_label': 0.0019}\n",
      "8 {'ACC': 96.25, 'ARI': 92.02, 'NMI': 92.37, 'kl_loss': 0.0399, 'delta_label': 0.002}\n",
      "9 {'ACC': 96.19, 'ARI': 91.91, 'NMI': 92.31, 'kl_loss': 0.0398, 'delta_label': 0.0014}\n",
      "10 {'ACC': 96.16, 'ARI': 91.85, 'NMI': 92.25, 'kl_loss': 0.04, 'delta_label': 0.0016}\n"
     ]
    },
    {
     "data": {
      "application/vnd.jupyter.widget-view+json": {
       "model_id": "6c977c84eaf3479782fb9a420c8446db",
       "version_major": 2,
       "version_minor": 0
      },
      "text/plain": [
       "HBox(children=(IntProgress(value=0, description='Extracting probabilities Q', max=3, style=ProgressStyle(descr…"
      ]
     },
     "metadata": {},
     "output_type": "display_data"
    },
    {
     "name": "stdout",
     "output_type": "stream",
     "text": [
      "{'ACC': 94.0, 'ARI': 87.58, 'NMI': 89.87}\n"
     ]
    }
   ],
   "source": [
    "# Prepare optimizer\n",
    "param_optimizer = list(model.named_parameters())\n",
    "no_decay = ['bias', 'LayerNorm.bias', 'LayerNorm.weight']\n",
    "optimizer_grouped_parameters = [\n",
    "    {'params': [p for n, p in param_optimizer if not any(nd in n for nd in no_decay)], 'weight_decay': 0.01},\n",
    "    {'params': [p for n, p in param_optimizer if any(nd in n for nd in no_decay)], 'weight_decay': 0.0}\n",
    "]\n",
    "num_train_optimization_steps = int(len(train_examples) / train_batch_size) * num_train_epochs\n",
    "optimizer = BertAdam(optimizer_grouped_parameters, lr=learning_rate, warmup=warmup_proportion, t_total=num_train_optimization_steps)\n",
    "\n",
    "\n",
    "import copy\n",
    "model_best = None\n",
    "nmi_best = 0\n",
    "wait, patient = 0, 5\n",
    "for epoch in range(num_train_epochs):\n",
    "    # Calculate probabilities P (as target)\n",
    "    model.eval()\n",
    "    qs = []\n",
    "    for batch in train_dataloader:\n",
    "        batch = tuple(t.to(device) for t in batch)\n",
    "        input_ids, input_mask, segment_ids, label_ids = batch\n",
    "\n",
    "        with torch.no_grad():\n",
    "            logits, q = model(input_ids, segment_ids, input_mask, mode='finetune')\n",
    "        q = q.detach().cpu().numpy()\n",
    "        logits = logits.detach().cpu().numpy()\n",
    "        qs.append(q)\n",
    "    q_all = np.vstack(qs)\n",
    "    p_all = target_distribution(q_all)\n",
    "    y_pred = q_all.argmax(1)\n",
    "    results = clustering_score(y_true, y_pred)\n",
    "    \n",
    "    # early stop\n",
    "    if results['NMI'] > nmi_best:\n",
    "        model_best = copy.deepcopy(model)\n",
    "        wait = 0\n",
    "        nmi_best = results['NMI']\n",
    "    else:\n",
    "        wait += 1\n",
    "        if wait > patient:\n",
    "            model = model_best\n",
    "            break\n",
    "    \n",
    "    delta_label = np.sum(y_pred != y_pred_last).astype(np.float32) / y_pred.shape[0]\n",
    "    y_pred_last = np.copy(y_pred)\n",
    "    if epoch > 0 and delta_label < 0.001:\n",
    "        print(epoch, delta_label, 'break')\n",
    "        break\n",
    "\n",
    "    # Fine-tuning with auxiliary distribution\n",
    "    model.train()\n",
    "    tr_loss, nb_tr_examples, nb_tr_steps = 0, 0, 0\n",
    "    qs = []\n",
    "    for step, batch in enumerate(train_dataloader):\n",
    "        batch = tuple(t.to(device) for t in batch)\n",
    "        input_ids, input_mask, segment_ids, label_ids = batch\n",
    "        logits, q = model(input_ids, segment_ids, input_mask, mode='finetune')\n",
    "        kl_loss = F.kl_div(q.log(), torch.Tensor(p_all[step*train_batch_size: (step+1)*train_batch_size]).cuda())\n",
    "        kl_loss.backward()\n",
    "\n",
    "        tr_loss += kl_loss.item()\n",
    "        nb_tr_examples += input_ids.size(0)\n",
    "        nb_tr_steps += 1\n",
    "\n",
    "        optimizer.step()\n",
    "        optimizer.zero_grad()        \n",
    "    train_loss = tr_loss / nb_tr_steps\n",
    "    results['kl_loss'] = round(train_loss, 4)\n",
    "    results['delta_label'] = delta_label.round(4)\n",
    "    print(epoch, results)\n",
    "\n",
    "\n",
    "# Extracting probabilities Q\n",
    "embs_test = []\n",
    "qs = []\n",
    "for batch in tqdm(test_dataloader, desc=\"Extracting probabilities Q\"):\n",
    "    batch = tuple(t.to(device) for t in batch)\n",
    "    input_ids, input_mask, segment_ids, label_ids = batch\n",
    "    with torch.no_grad():\n",
    "        logits, q = model(input_ids, segment_ids, input_mask, mode='finetune')\n",
    "    q = q.detach().cpu().numpy()\n",
    "    logits = logits.detach().cpu().numpy()\n",
    "    qs.append(q)\n",
    "    embs_test.append(logits)\n",
    "\n",
    "q_all = np.vstack(qs)\n",
    "y_pred = q_all.argmax(1)\n",
    "y_true = test_label_ids\n",
    "\n",
    "results = clustering_score(y_true, y_pred)\n",
    "results_all.update({'CDAC+': results})\n",
    "print(results)"
   ]
  },
  {
   "cell_type": "code",
   "execution_count": null,
   "metadata": {},
   "outputs": [],
   "source": []
  }
 ],
 "metadata": {
  "kernelspec": {
   "display_name": "BERT",
   "language": "python",
   "name": "bert"
  },
  "language_info": {
   "codemirror_mode": {
    "name": "ipython",
    "version": 3
   },
   "file_extension": ".py",
   "mimetype": "text/x-python",
   "name": "python",
   "nbconvert_exporter": "python",
   "pygments_lexer": "ipython3",
   "version": "3.6.8"
  }
 },
 "nbformat": 4,
 "nbformat_minor": 2
}
