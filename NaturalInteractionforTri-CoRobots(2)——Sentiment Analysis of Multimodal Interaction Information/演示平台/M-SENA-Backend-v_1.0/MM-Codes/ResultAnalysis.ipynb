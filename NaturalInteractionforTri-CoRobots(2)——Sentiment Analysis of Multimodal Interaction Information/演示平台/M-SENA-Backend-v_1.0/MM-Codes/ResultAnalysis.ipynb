{
 "cells": [
  {
   "cell_type": "code",
   "execution_count": 36,
   "metadata": {},
   "outputs": [],
   "source": [
    "import os\n",
    "import random\n",
    "import argparse\n",
    "import numpy as np\n",
    "import pandas as pd\n",
    "from glob import glob\n",
    "from tqdm import tqdm\n",
    "from sklearn.metrics import accuracy_score, f1_score, confusion_matrix\n",
    "\n",
    "import torch\n",
    "import torch.nn as nn\n",
    "from torch import optim\n",
    "from torch.optim.lr_scheduler import ReduceLROnPlateau\n",
    "\n",
    "from config.config_run import *\n",
    "from models.AMIO import AMIO\n",
    "from data.load_data import MMDataLoader"
   ]
  },
  {
   "cell_type": "code",
   "execution_count": 2,
   "metadata": {},
   "outputs": [],
   "source": [
    "class Storage(dict):\n",
    "    \"\"\"\n",
    "    A Storage object is like a dictionary except `obj.foo` can be used inadition to `obj['foo']`\n",
    "    ref: https://blog.csdn.net/a200822146085/article/details/88430450\n",
    "    \"\"\"\n",
    "    def __getattr__(self, key):\n",
    "        try:\n",
    "            return self[key]\n",
    "        except KeyError as k:\n",
    "            raise AttributeError(k)\n",
    "\n",
    "    def __setattr__(self, key, value):\n",
    "        self[key] = value\n",
    "\n",
    "    def __delattr__(self, key):\n",
    "        try:\n",
    "            del self[key]\n",
    "        except KeyError as k:\n",
    "            raise AttributeError(k)\n",
    "\n",
    "    def __str__(self):\n",
    "        return \"<\" + self.__class__.__name__ + dict.__repr__(self) + \">\""
   ]
  },
  {
   "cell_type": "code",
   "execution_count": 28,
   "metadata": {},
   "outputs": [
    {
     "name": "stdout",
     "output_type": "stream",
     "text": [
      "Train Samples Num: 1284\n",
      "Valid Samples Num: 229\n",
      "Test Samples Num: 686\n"
     ]
    }
   ],
   "source": [
    "seed = 1111\n",
    "args = {'modelName': 'dmult', 'datasetName': 'mosi', 'num_workers': 8, 'tasks': 'M', \\\n",
    "        'data_dir': '/home/sharing/disk3/dataset/multimodal-sentiment-dataset'}\n",
    "# save_path = 'asserts' + '/' + args['modelName'] + '-%d' % seed + '.pdf'\n",
    "config = Config(args)\n",
    "args = config.get_config()\n",
    "device = torch.device('cuda: 1')\n",
    "# load model\n",
    "model_save_path = '/home/iyuge2/Project/MSA-AAAI2021/results/tmpSave/dmult-mosi-M-A-B.pth'\n",
    "model = AMIO(args)\n",
    "model.load_state_dict(torch.load(model_save_path))\n",
    "model.to(device)\n",
    "model.eval()\n",
    "# load data\n",
    "dataloader = MMDataLoader(args)"
   ]
  },
  {
   "cell_type": "code",
   "execution_count": 29,
   "metadata": {},
   "outputs": [
    {
     "name": "stderr",
     "output_type": "stream",
     "text": [
      "100%|██████████| 11/11 [00:01<00:00,  7.25it/s]\n",
      "100%|██████████| 2/2 [00:00<00:00,  2.55it/s]\n",
      "100%|██████████| 6/6 [00:01<00:00,  5.47it/s]\n"
     ]
    }
   ],
   "source": [
    "feature_ts, feature_as, feature_vs, feature_fs = [], [], [], []\n",
    "new_ts, new_as, new_vs = [], [], []\n",
    "y_pred = []\n",
    "y_true = []\n",
    "with torch.no_grad():\n",
    "    for mode in ['train', 'valid', 'test']:\n",
    "        with tqdm(dataloader[mode]) as td:\n",
    "            for batch_data in td:\n",
    "                vision = batch_data['vision'].to(device)\n",
    "                audio = batch_data['audio'].to(device)\n",
    "                text = batch_data['text'].to(device)\n",
    "                labels = batch_data['labels']['M'].to(device).view(-1, 1)\n",
    "\n",
    "                outputs = model(text, audio, vision)\n",
    "                # save features and results\n",
    "                feature_ts.append(outputs['Feature_t'].cpu().detach())\n",
    "                feature_as.append(outputs['Feature_a'].cpu().detach())\n",
    "                feature_vs.append(outputs['Feature_v'].cpu().detach())\n",
    "                feature_fs.append(outputs['Feature_f'].cpu().detach())\n",
    "                \n",
    "#                 new_ts.append(outputs['New_t'].cpu().detach())\n",
    "#                 new_as.append(outputs['New_a'].cpu().detach())\n",
    "#                 new_vs.append(outputs['New_v'].cpu().detach())\n",
    "                \n",
    "                y_pred.append(outputs['M'].cpu())\n",
    "                y_true.append(labels.cpu())"
   ]
  },
  {
   "cell_type": "code",
   "execution_count": 30,
   "metadata": {},
   "outputs": [],
   "source": [
    "feature_T = torch.cat(feature_ts, dim=0).cpu().detach().numpy()\n",
    "feature_A = torch.cat(feature_as, dim=0).cpu().detach().numpy()\n",
    "feature_V = torch.cat(feature_vs, dim=0).cpu().detach().numpy()\n",
    "feature_F = torch.cat(feature_fs, dim=0).cpu().detach().numpy()\n",
    "# new_T = torch.cat(new_ts, dim=0).cpu().detach().numpy()\n",
    "# new_A = torch.cat(new_as, dim=0).cpu().detach().numpy()\n",
    "# new_V = torch.cat(new_vs, dim=0).cpu().detach().numpy()\n",
    "\n",
    "y_pred = torch.cat(y_pred, dim=0).view(-1).cpu().detach().numpy()\n",
    "y_pred[y_pred > 0] = 1\n",
    "y_pred[y_pred <= 0] = 0\n",
    "\n",
    "y_true = torch.cat(y_true, dim=0).view(-1).cpu().detach().numpy()\n",
    "y_true[y_true > 0] = 1\n",
    "y_true[y_true <= 0] = 0"
   ]
  },
  {
   "cell_type": "markdown",
   "metadata": {},
   "source": [
    "- 融合表示"
   ]
  },
  {
   "cell_type": "code",
   "execution_count": null,
   "metadata": {},
   "outputs": [],
   "source": [
    "result_F = tsne.fit_transform(feature_F)\n",
    "pos = result_F[np.where(y_true==1)]\n",
    "neg = result_F[np.where(y_true==0)]\n",
    "plt.scatter(pos[:,0], pos[:,1], color='r', label='pos')\n",
    "plt.legend()\n",
    "plt.scatter(neg[:,0], neg[:,1], color='g', label='neg')\n",
    "plt.legend()"
   ]
  },
  {
   "cell_type": "markdown",
   "metadata": {},
   "source": [
    "- 单模态表示"
   ]
  },
  {
   "cell_type": "code",
   "execution_count": 6,
   "metadata": {},
   "outputs": [],
   "source": [
    "import matplotlib.pyplot as plt\n",
    "from sklearn.manifold import TSNE\n",
    "plt.rcParams['font.sans-serif'] = ['Times New Roman']\n",
    "tsne = TSNE(n_components=2, init='pca', random_state=0)\n",
    "result_T = tsne.fit_transform(feature_T)\n",
    "result_A = tsne.fit_transform(feature_A)\n",
    "result_V = tsne.fit_transform(feature_V)\n",
    "att_xs = [result_T, result_A, result_V]"
   ]
  },
  {
   "cell_type": "code",
   "execution_count": 7,
   "metadata": {},
   "outputs": [
    {
     "data": {
      "image/png": "[encoded data removed]",
      "text/plain": [
       "<Figure size 432x288 with 1 Axes>"
      ]
     },
     "metadata": {
      "needs_background": "light"
     },
     "output_type": "display_data"
    }
   ],
   "source": [
    "colors = ['r', 'g', 'b']\n",
    "labels = ['T', 'A', 'V']\n",
    "for i in range(len(colors)): \n",
    "    plt.scatter(att_xs[i][:,0:1], att_xs[i][:,1:2], label=labels[i], c = colors[i])\n",
    "    plt.legend(loc='upper right')"
   ]
  },
  {
   "cell_type": "code",
   "execution_count": 8,
   "metadata": {},
   "outputs": [
    {
     "data": {
      "image/png": "[encoded data removed]",
      "text/plain": [
       "<Figure size 432x288 with 1 Axes>"
      ]
     },
     "metadata": {
      "needs_background": "light"
     },
     "output_type": "display_data"
    }
   ],
   "source": [
    "result_T = tsne.fit_transform(new_T)\n",
    "result_A = tsne.fit_transform(new_A)\n",
    "result_V = tsne.fit_transform(new_V)\n",
    "att_xs = [result_T, result_A, result_V]\n",
    "colors = ['r', 'g', 'b']\n",
    "labels = ['T', 'A', 'V']\n",
    "for i in range(len(colors)): \n",
    "    plt.scatter(att_xs[i][:,0:1], att_xs[i][:,1:2], label=labels[i], c = colors[i])\n",
    "    plt.legend(loc='upper right')"
   ]
  },
  {
   "cell_type": "code",
   "execution_count": 95,
   "metadata": {},
   "outputs": [],
   "source": [
    "def test(x, D):\n",
    "    x_shape = x.size()\n",
    "    x = x.view(-1)\n",
    "    left = x < -D\n",
    "    middle = (x >= -D) & (x <= D)\n",
    "    right = x > D\n",
    "    # x < -D\n",
    "    x[left] = (1 - torch.exp(-x[left]-D)) / (1 + torch.exp(-x[left]-D))\n",
    "    # x < D and x > -D\n",
    "    x[middle] = 0\n",
    "    # x > D\n",
    "    x[right] = (1 - torch.exp(-x[right]+D)) / (1 + torch.exp(-x[right]+D))\n",
    "    # return\n",
    "    x = x.view(x_shape)\n",
    "    return x"
   ]
  },
  {
   "cell_type": "code",
   "execution_count": 97,
   "metadata": {},
   "outputs": [],
   "source": [
    "x = torch.tensor([i for i in range(-5, 5)]).float().view(-1, 2)"
   ]
  },
  {
   "cell_type": "code",
   "execution_count": 98,
   "metadata": {},
   "outputs": [],
   "source": [
    "x.requires_grad = True"
   ]
  },
  {
   "cell_type": "code",
   "execution_count": 99,
   "metadata": {},
   "outputs": [],
   "source": [
    "new_x = test(x, 2)"
   ]
  },
  {
   "cell_type": "code",
   "execution_count": 100,
   "metadata": {},
   "outputs": [
    {
     "data": {
      "text/plain": [
       "True"
      ]
     },
     "execution_count": 100,
     "metadata": {},
     "output_type": "execute_result"
    }
   ],
   "source": [
    "x.requires_grad"
   ]
  },
  {
   "cell_type": "code",
   "execution_count": 101,
   "metadata": {},
   "outputs": [
    {
     "data": {
      "text/plain": [
       "True"
      ]
     },
     "execution_count": 101,
     "metadata": {},
     "output_type": "execute_result"
    }
   ],
   "source": [
    "new_x.requires_grad"
   ]
  },
  {
   "cell_type": "code",
   "execution_count": 127,
   "metadata": {},
   "outputs": [],
   "source": [
    "a = torch.tensor([3.0, 0.0, 1.0])"
   ]
  },
  {
   "cell_type": "code",
   "execution_count": 128,
   "metadata": {},
   "outputs": [],
   "source": [
    "a.requires_grad = True"
   ]
  },
  {
   "cell_type": "code",
   "execution_count": 131,
   "metadata": {},
   "outputs": [],
   "source": [
    "b = torch.where(a > 2.0, torch.tensor([0.0]), a)"
   ]
  },
  {
   "cell_type": "code",
   "execution_count": 132,
   "metadata": {},
   "outputs": [
    {
     "data": {
      "text/plain": [
       "True"
      ]
     },
     "execution_count": 132,
     "metadata": {},
     "output_type": "execute_result"
    }
   ],
   "source": [
    "b.requires_grad"
   ]
  },
  {
   "cell_type": "code",
   "execution_count": null,
   "metadata": {},
   "outputs": [],
   "source": []
  }
 ],
 "metadata": {
  "kernelspec": {
   "display_name": "Python 3",
   "language": "python",
   "name": "python3"
  },
  "language_info": {
   "codemirror_mode": {
    "name": "ipython",
    "version": 3
   },
   "file_extension": ".py",
   "mimetype": "text/x-python",
   "name": "python",
   "nbconvert_exporter": "python",
   "pygments_lexer": "ipython3",
   "version": "3.7.4"
  }
 },
 "nbformat": 4,
 "nbformat_minor": 4
}
