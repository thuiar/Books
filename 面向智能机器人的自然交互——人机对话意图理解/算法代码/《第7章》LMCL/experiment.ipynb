{
 "cells": [
  {
   "cell_type": "code",
   "execution_count": 1,
   "metadata": {
    "scrolled": true
   },
   "outputs": [
    {
     "name": "stderr",
     "output_type": "stream",
     "text": [
      "/home/tony/anaconda3/lib/python3.6/site-packages/h5py/__init__.py:36: FutureWarning: Conversion of the second argument of issubdtype from `float` to `np.floating` is deprecated. In future, it will be treated as `np.float64 == np.dtype(float).type`.\n",
      "  from ._conv import register_converters as _register_converters\n",
      "Using TensorFlow backend.\n"
     ]
    },
    {
     "data": {
      "text/html": [
       "<div>\n",
       "<style scoped>\n",
       "    .dataframe tbody tr th:only-of-type {\n",
       "        vertical-align: middle;\n",
       "    }\n",
       "\n",
       "    .dataframe tbody tr th {\n",
       "        vertical-align: top;\n",
       "    }\n",
       "\n",
       "    .dataframe thead th {\n",
       "        text-align: right;\n",
       "    }\n",
       "</style>\n",
       "<table border=\"1\" class=\"dataframe\">\n",
       "  <thead>\n",
       "    <tr style=\"text-align: right;\">\n",
       "      <th></th>\n",
       "      <th>text</th>\n",
       "      <th>label</th>\n",
       "    </tr>\n",
       "  </thead>\n",
       "  <tbody>\n",
       "    <tr>\n",
       "      <th>0</th>\n",
       "      <td>listen to westbam alumb allergic on google music</td>\n",
       "      <td>PlayMusic</td>\n",
       "    </tr>\n",
       "    <tr>\n",
       "      <th>1</th>\n",
       "      <td>add step to me to the 50 clásicos playlist</td>\n",
       "      <td>AddToPlaylist</td>\n",
       "    </tr>\n",
       "    <tr>\n",
       "      <th>2</th>\n",
       "      <td>i give this current textbook a rating value of...</td>\n",
       "      <td>RateBook</td>\n",
       "    </tr>\n",
       "    <tr>\n",
       "      <th>3</th>\n",
       "      <td>play the song little robin redbreast</td>\n",
       "      <td>PlayMusic</td>\n",
       "    </tr>\n",
       "    <tr>\n",
       "      <th>4</th>\n",
       "      <td>please add iris dement to my playlist this is ...</td>\n",
       "      <td>AddToPlaylist</td>\n",
       "    </tr>\n",
       "  </tbody>\n",
       "</table>\n",
       "</div>"
      ],
      "text/plain": [
       "                                                text          label\n",
       "0   listen to westbam alumb allergic on google music      PlayMusic\n",
       "1        add step to me to the 50 clásicos playlist   AddToPlaylist\n",
       "2  i give this current textbook a rating value of...       RateBook\n",
       "3               play the song little robin redbreast      PlayMusic\n",
       "4  please add iris dement to my playlist this is ...  AddToPlaylist"
      ]
     },
     "execution_count": 1,
     "metadata": {},
     "output_type": "execute_result"
    }
   ],
   "source": [
    "# Preprocessing\n",
    "import os\n",
    "from utils import *\n",
    "import numpy as np\n",
    "import pandas as pd\n",
    "from nltk.tokenize import word_tokenize\n",
    "from sklearn.preprocessing import LabelEncoder\n",
    "from keras.utils import to_categorical\n",
    "from keras.preprocessing.text import Tokenizer\n",
    "from keras.preprocessing.sequence import pad_sequences\n",
    "\n",
    "# Modeling\n",
    "from models import BiLSTM_LMCL\n",
    "from keras.callbacks import ModelCheckpoint, EarlyStopping\n",
    "from keras.models import Model\n",
    "from keras import backend as K\n",
    "\n",
    "# Evaluation\n",
    "from sklearn.metrics import confusion_matrix\n",
    "from sklearn.neighbors import LocalOutlierFactor\n",
    "\n",
    "# GPU setting\n",
    "os.environ[\"CUDA_VISIBLE_DEVICES\"] = \"0,1,2,3\"\n",
    "set_allow_growth(device=\"2\")\n",
    "\n",
    "dataset = \"SNIPS\"  # [SNIPS, ATIS] Different dataset\n",
    "proportion = 50 # [25, 50, 75] Different proportion of seen class \n",
    "embedding_path = '/data/disk1/sharing/pretrained_embedding/glove/'\n",
    "EMBEDDING_FILE = os.path.join(embedding_path, 'glove.6B.300d.txt')\n",
    "MAX_SEQ_LEN = None\n",
    "MAX_NUM_WORDS = 10000\n",
    "EMBEDDING_DIM = 300\n",
    "\n",
    "df, partition_to_n_row = load_data(dataset)\n",
    "df.head()"
   ]
  },
  {
   "cell_type": "markdown",
   "metadata": {},
   "source": [
    "# Data Preprocessing"
   ]
  },
  {
   "cell_type": "code",
   "execution_count": 2,
   "metadata": {
    "scrolled": true
   },
   "outputs": [
    {
     "name": "stdout",
     "output_type": "stream",
     "text": [
      "train : valid : test = 13084 : 700 : 700\n",
      "Load pre-trained GloVe embedding...\n"
     ]
    },
    {
     "name": "stderr",
     "output_type": "stream",
     "text": [
      "/home/tony/anaconda3/lib/python3.6/site-packages/ipykernel_launcher.py:35: FutureWarning: arrays to stack must be passed as a \"sequence\" type such as list or tuple. Support for non-sequence iterables such as generators is deprecated as of NumPy 1.16 and will raise an error in the future.\n"
     ]
    }
   ],
   "source": [
    "df['content_words'] = df['text'].apply(lambda s: word_tokenize(s))\n",
    "texts = df['content_words'].apply(lambda l: \" \".join(l)) \n",
    "\n",
    "# Do not filter out \",\" and \".\"\n",
    "tokenizer = Tokenizer(num_words=MAX_NUM_WORDS, oov_token=\"<UNK>\", filters='!\"#$%&()*+-/:;<=>@[\\]^_`{|}~') \n",
    "\n",
    "tokenizer.fit_on_texts(texts)\n",
    "word_index = tokenizer.word_index\n",
    "sequences = tokenizer.texts_to_sequences(texts)\n",
    "sequences_pad = pad_sequences(sequences, maxlen=MAX_SEQ_LEN, padding='post', truncating='post')\n",
    "\n",
    "# Train-valid-test split\n",
    "idx_train = (None, partition_to_n_row['train'])\n",
    "idx_valid = (partition_to_n_row['train'], partition_to_n_row['train'] + partition_to_n_row['valid'])\n",
    "idx_test = (partition_to_n_row['train'] + partition_to_n_row['valid'], None)\n",
    "\n",
    "X_train = sequences_pad[idx_train[0]:idx_train[1]]\n",
    "X_valid = sequences_pad[idx_valid[0]:idx_valid[1]]\n",
    "X_test = sequences_pad[idx_test[0]:idx_test[1]]\n",
    "\n",
    "df_train = df[idx_train[0]:idx_train[1]]\n",
    "df_valid = df[idx_valid[0]:idx_valid[1]]\n",
    "df_test = df[idx_test[0]:idx_test[1]]\n",
    "\n",
    "y_train = df_train.label.reset_index(drop=True)\n",
    "y_valid = df_valid.label.reset_index(drop=True)\n",
    "y_test = df_test.label.reset_index(drop=True)\n",
    "print(\"train : valid : test = %d : %d : %d\" % (X_train.shape[0], X_valid.shape[0], X_test.shape[0]))\n",
    "\n",
    "print(\"Load pre-trained GloVe embedding...\")\n",
    "MAX_FEATURES = min(MAX_NUM_WORDS, len(word_index)) + 1  # +1 for PAD\n",
    "\n",
    "def get_coefs(word,*arr): return word, np.asarray(arr, dtype='float32')\n",
    "embeddings_index = dict(get_coefs(*o.strip().split()) for o in open(EMBEDDING_FILE))\n",
    "all_embs = np.stack(embeddings_index.values())\n",
    "emb_mean, emb_std = all_embs.mean(), all_embs.std()\n",
    "embedding_matrix = np.random.normal(emb_mean, emb_std, (MAX_FEATURES, EMBEDDING_DIM))\n",
    "for word, i in word_index.items():\n",
    "    if i >= MAX_FEATURES: continue\n",
    "    embedding_vector = embeddings_index.get(word)\n",
    "    if embedding_vector is not None: embedding_matrix[i] = embedding_vector"
   ]
  },
  {
   "cell_type": "markdown",
   "metadata": {},
   "source": [
    "# Modeling - BiLSTM"
   ]
  },
  {
   "cell_type": "code",
   "execution_count": 3,
   "metadata": {
    "scrolled": false
   },
   "outputs": [
    {
     "name": "stdout",
     "output_type": "stream",
     "text": [
      "['PlayMusic' 'SearchScreeningEvent' 'GetWeather' 'RateBook']\n",
      "WARNING:tensorflow:From /home/tony/anaconda3/lib/python3.6/site-packages/keras/backend/tensorflow_backend.py:3012: softmax_cross_entropy_with_logits (from tensorflow.python.ops.nn_ops) is deprecated and will be removed in a future version.\n",
      "Instructions for updating:\n",
      "\n",
      "Future major versions of TensorFlow will allow gradients to flow\n",
      "into the labels input on backprop by default.\n",
      "\n",
      "See @{tf.nn.softmax_cross_entropy_with_logits_v2}.\n",
      "\n",
      "Train on 7538 samples, validate on 400 samples\n",
      "Epoch 1/200\n",
      "7538/7538 [==============================] - 14s 2ms/step - loss: 6.1266 - acc: 0.9333 - val_loss: 1.0696 - val_acc: 0.9875\n",
      "Epoch 2/200\n",
      "7538/7538 [==============================] - 9s 1ms/step - loss: 3.8133 - acc: 0.9987 - val_loss: 0.7375 - val_acc: 0.9975\n",
      "Epoch 3/200\n",
      "7538/7538 [==============================] - 11s 1ms/step - loss: 3.6728 - acc: 0.9993 - val_loss: 0.6952 - val_acc: 0.9975\n",
      "Epoch 4/200\n",
      "7538/7538 [==============================] - 11s 2ms/step - loss: 3.5941 - acc: 0.9995 - val_loss: 0.6662 - val_acc: 0.9975\n",
      "Epoch 5/200\n",
      "7538/7538 [==============================] - 11s 1ms/step - loss: 3.5611 - acc: 1.0000 - val_loss: 0.6293 - val_acc: 0.9975\n",
      "Epoch 6/200\n",
      "7538/7538 [==============================] - 11s 1ms/step - loss: 3.5305 - acc: 1.0000 - val_loss: 0.6257 - val_acc: 0.9975\n",
      "Epoch 7/200\n",
      "7538/7538 [==============================] - 11s 1ms/step - loss: 3.5030 - acc: 1.0000 - val_loss: 0.5840 - val_acc: 1.0000\n",
      "Epoch 8/200\n",
      "7538/7538 [==============================] - 11s 1ms/step - loss: 3.4762 - acc: 1.0000 - val_loss: 0.5731 - val_acc: 0.9975\n",
      "Epoch 9/200\n",
      "7538/7538 [==============================] - 11s 1ms/step - loss: 3.4621 - acc: 1.0000 - val_loss: 0.5749 - val_acc: 1.0000\n",
      "Epoch 10/200\n",
      "7538/7538 [==============================] - 11s 2ms/step - loss: 3.4586 - acc: 1.0000 - val_loss: 0.5695 - val_acc: 1.0000\n",
      "Epoch 11/200\n",
      "7538/7538 [==============================] - 7s 944us/step - loss: 3.4405 - acc: 1.0000 - val_loss: 0.5614 - val_acc: 1.0000\n",
      "Epoch 12/200\n",
      "7538/7538 [==============================] - 5s 666us/step - loss: 3.4302 - acc: 1.0000 - val_loss: 0.5416 - val_acc: 1.0000\n",
      "Epoch 13/200\n",
      "7538/7538 [==============================] - 4s 511us/step - loss: 3.4151 - acc: 1.0000 - val_loss: 0.5079 - val_acc: 1.0000\n",
      "Epoch 14/200\n",
      "7538/7538 [==============================] - 4s 536us/step - loss: 3.3993 - acc: 1.0000 - val_loss: 0.5154 - val_acc: 1.0000\n",
      "Epoch 15/200\n",
      "7538/7538 [==============================] - 4s 572us/step - loss: 3.3832 - acc: 1.0000 - val_loss: 0.4999 - val_acc: 1.0000\n",
      "Epoch 16/200\n",
      "7538/7538 [==============================] - 4s 532us/step - loss: 3.3845 - acc: 1.0000 - val_loss: 0.5297 - val_acc: 1.0000\n",
      "Epoch 17/200\n",
      "7538/7538 [==============================] - 5s 648us/step - loss: 3.3883 - acc: 1.0000 - val_loss: 0.5083 - val_acc: 1.0000\n",
      "Epoch 18/200\n",
      "7538/7538 [==============================] - 7s 951us/step - loss: 3.4069 - acc: 1.0000 - val_loss: 0.5147 - val_acc: 1.0000\n",
      "Epoch 19/200\n",
      "7538/7538 [==============================] - 6s 848us/step - loss: 3.4041 - acc: 1.0000 - val_loss: 0.5338 - val_acc: 1.0000\n",
      "Epoch 20/200\n",
      "7538/7538 [==============================] - 6s 859us/step - loss: 3.4223 - acc: 1.0000 - val_loss: 0.5420 - val_acc: 1.0000\n",
      "Epoch 21/200\n",
      "7538/7538 [==============================] - 7s 940us/step - loss: 3.4283 - acc: 1.0000 - val_loss: 0.5297 - val_acc: 1.0000\n",
      "Epoch 22/200\n",
      "7538/7538 [==============================] - 7s 973us/step - loss: 3.4345 - acc: 1.0000 - val_loss: 0.5399 - val_acc: 1.0000\n",
      "Epoch 23/200\n",
      "7538/7538 [==============================] - 7s 933us/step - loss: 3.4469 - acc: 1.0000 - val_loss: 0.5440 - val_acc: 1.0000\n",
      "Epoch 24/200\n",
      "7538/7538 [==============================] - 7s 925us/step - loss: 3.4501 - acc: 1.0000 - val_loss: 0.5447 - val_acc: 1.0000\n",
      "Epoch 25/200\n",
      "7538/7538 [==============================] - 8s 1ms/step - loss: 3.4595 - acc: 1.0000 - val_loss: 0.5499 - val_acc: 1.0000\n",
      "Epoch 26/200\n",
      "7538/7538 [==============================] - 7s 967us/step - loss: 3.4744 - acc: 1.0000 - val_loss: 0.5565 - val_acc: 1.0000\n",
      "Epoch 27/200\n",
      "7538/7538 [==============================] - 7s 936us/step - loss: 3.4756 - acc: 1.0000 - val_loss: 0.5589 - val_acc: 1.0000\n",
      "Epoch 28/200\n",
      "7538/7538 [==============================] - 7s 954us/step - loss: 3.4726 - acc: 1.0000 - val_loss: 0.5583 - val_acc: 1.0000\n",
      "Epoch 29/200\n",
      "7538/7538 [==============================] - 7s 928us/step - loss: 3.4882 - acc: 1.0000 - val_loss: 0.5751 - val_acc: 1.0000\n",
      "Epoch 30/200\n",
      "7538/7538 [==============================] - 20s 3ms/step - loss: 3.5037 - acc: 1.0000 - val_loss: 0.5761 - val_acc: 1.0000\n",
      "Epoch 31/200\n",
      "7538/7538 [==============================] - 26s 3ms/step - loss: 3.4929 - acc: 1.0000 - val_loss: 0.6039 - val_acc: 1.0000\n",
      "Epoch 32/200\n",
      "7538/7538 [==============================] - 26s 3ms/step - loss: 3.5013 - acc: 1.0000 - val_loss: 0.5757 - val_acc: 1.0000\n",
      "Epoch 33/200\n",
      "7538/7538 [==============================] - 26s 3ms/step - loss: 3.4935 - acc: 1.0000 - val_loss: 0.5913 - val_acc: 1.0000\n",
      "Epoch 34/200\n",
      "7538/7538 [==============================] - 26s 3ms/step - loss: 3.5043 - acc: 1.0000 - val_loss: 0.5804 - val_acc: 1.0000\n",
      "Epoch 35/200\n",
      "7538/7538 [==============================] - 16s 2ms/step - loss: 3.4992 - acc: 0.9999 - val_loss: 0.6015 - val_acc: 1.0000\n"
     ]
    }
   ],
   "source": [
    "n_class = y_train.unique().shape[0]\n",
    "n_class_seen = round(n_class * proportion/100)\n",
    "\n",
    "weighted_random_sampling = False\n",
    "if weighted_random_sampling:\n",
    "    y_cols = y_train.unique()\n",
    "    y_vc = y_train.value_counts()\n",
    "    y_vc = y_vc / y_vc.sum()\n",
    "    y_cols_seen = np.random.choice(y_vc.index, n_class_seen, p=y_vc.values, replace=False)\n",
    "    y_cols_unseen = [y_col for y_col in y_cols if y_col not in y_cols_seen]\n",
    "else:\n",
    "    y_cols_seen = y_train.value_counts().index[:n_class_seen]\n",
    "    y_cols_unseen = y_train.value_counts().index[n_class_seen:]\n",
    "print(y_cols_seen)\n",
    "\n",
    "train_seen_idx = y_train[y_train.isin(y_cols_seen)].index\n",
    "valid_seen_idx = y_valid[y_valid.isin(y_cols_seen)].index\n",
    "\n",
    "X_train_seen = X_train[train_seen_idx]\n",
    "y_train_seen = y_train[train_seen_idx]\n",
    "X_valid_seen = X_valid[valid_seen_idx]\n",
    "y_valid_seen = y_valid[valid_seen_idx]\n",
    "\n",
    "le = LabelEncoder()\n",
    "le.fit(y_train_seen)\n",
    "y_train_idx = le.transform(y_train_seen)\n",
    "y_valid_idx = le.transform(y_valid_seen)\n",
    "y_train_onehot = to_categorical(y_train_idx)\n",
    "y_valid_onehot = to_categorical(y_valid_idx)\n",
    "\n",
    "y_test_mask = y_test.copy()\n",
    "y_test_mask[y_test_mask.isin(y_cols_unseen)] = 'unseen'\n",
    "\n",
    "filepath = 'data/BiLSTM_' + dataset + \"_\" + str(proportion) + '-AM.h5'\n",
    "checkpoint = ModelCheckpoint(filepath, monitor='val_loss', verbose=0, \n",
    "                             save_best_only=True, mode='auto', save_weights_only=False)\n",
    "early_stop = EarlyStopping(monitor='val_loss', patience=20, mode='auto') \n",
    "callbacks_list = [checkpoint, early_stop]\n",
    "\n",
    "train_data = (X_train_seen, y_train_onehot)\n",
    "valid_data = (X_valid_seen, y_valid_onehot)\n",
    "test_data = (X_test, y_test_mask)\n",
    "\n",
    "## If you want to plot the model\n",
    "# model = BiLSTM_LMCL(MAX_SEQ_LEN, MAX_FEATURES, EMBEDDING_DIM, n_class_seen, 'img/model.png', embedding_matrix)\n",
    "model = BiLSTM_LMCL(MAX_SEQ_LEN, MAX_FEATURES, EMBEDDING_DIM, n_class_seen, None, embedding_matrix)\n",
    "history = model.fit(train_data[0], train_data[1], epochs=200, batch_size=256, \n",
    "                    validation_data=valid_data, shuffle=True, verbose=2, callbacks=callbacks_list)"
   ]
  },
  {
   "cell_type": "markdown",
   "metadata": {},
   "source": [
    "# Evaluation"
   ]
  },
  {
   "cell_type": "code",
   "execution_count": 4,
   "metadata": {},
   "outputs": [
    {
     "name": "stdout",
     "output_type": "stream",
     "text": [
      "Overall(macro):  85.61\n",
      "Seen(macro):  86.05\n",
      "=====> Uneen(Experiment) <=====:  83.85\n",
      "Confusion matrix, without normalization\n"
     ]
    },
    {
     "data": {
      "image/png": "[encoded data removed]",
      "text/plain": [
       "<matplotlib.figure.Figure at 0x7fc982d860b8>"
      ]
     },
     "metadata": {},
     "output_type": "display_data"
    }
   ],
   "source": [
    "y_pred_proba = model.predict(test_data[0])\n",
    "y_pred_proba_train = model.predict(train_data[0])\n",
    "classes = list(le.classes_) + ['unseen']\n",
    "\n",
    "method = 'LOF (LMCL)'\n",
    "get_deep_feature = Model(inputs=model.input, \n",
    "                         outputs=model.layers[-3].output)\n",
    "feature_test = get_deep_feature.predict(test_data[0])\n",
    "feature_train = get_deep_feature.predict(train_data[0])\n",
    "lof = LocalOutlierFactor(n_neighbors=20, contamination=0.05, novelty=True, n_jobs=-1)\n",
    "lof.fit(feature_train)\n",
    "\n",
    "y_pred_lof = pd.Series(lof.predict(feature_test))\n",
    "df_seen = pd.DataFrame(y_pred_proba, columns=le.classes_)\n",
    "df_seen['unseen'] = 0\n",
    "\n",
    "y_pred = df_seen.idxmax(axis=1)\n",
    "y_pred[y_pred_lof[y_pred_lof==-1].index]='unseen'\n",
    "cm = confusion_matrix(test_data[1], y_pred, classes)\n",
    "\n",
    "f, f_seen, f_unseen = get_score(cm)\n",
    "plot_confusion_matrix(cm, classes, normalize=False, figsize=(9, 6),\n",
    "                      title=method +' on ' + dataset + ', f1-macro=' + str(f))"
   ]
  },
  {
   "cell_type": "code",
   "execution_count": null,
   "metadata": {},
   "outputs": [],
   "source": []
  }
 ],
 "metadata": {
  "kernelspec": {
   "display_name": "Python 3",
   "language": "python",
   "name": "python3"
  },
  "language_info": {
   "codemirror_mode": {
    "name": "ipython",
    "version": 3
   },
   "file_extension": ".py",
   "mimetype": "text/x-python",
   "name": "python",
   "nbconvert_exporter": "python",
   "pygments_lexer": "ipython3",
   "version": "3.6.4"
  }
 },
 "nbformat": 4,
 "nbformat_minor": 2
}
